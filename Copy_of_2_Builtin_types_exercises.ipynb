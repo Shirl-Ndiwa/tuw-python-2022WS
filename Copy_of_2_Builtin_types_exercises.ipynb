{
  "cells": [
    {
      "cell_type": "markdown",
      "metadata": {
        "id": "view-in-github",
        "colab_type": "text"
      },
      "source": [
        "<a href=\"https://colab.research.google.com/github/Shirl-Ndiwa/tuw-python-2022WS/blob/main/Copy_of_2_Builtin_types_exercises.ipynb\" target=\"_parent\"><img src=\"https://colab.research.google.com/assets/colab-badge.svg\" alt=\"Open In Colab\"/></a>"
      ]
    },
    {
      "cell_type": "markdown",
      "metadata": {
        "deletable": false,
        "editable": false,
        "nbgrader": {
          "cell_type": "markdown",
          "checksum": "880abeff0ad43082ade59a7d00703ef1",
          "grade": false,
          "grade_id": "cell-b32cc7a0861f7655",
          "locked": true,
          "schema_version": 3,
          "solution": false,
          "task": false
        },
        "id": "znWFp-hT7hAX"
      },
      "source": [
        "# Programming in Python\n",
        "\n",
        "__Laboratory 02, Type system and built-in types__\n",
        "\n",
        "__Sept 27, 2022__\n",
        "\n",
        "__Submission deadline: Sept 29 23:59__\n",
        "\n",
        "__Submissions must be made through Github Classroom__\n",
        "\n",
        "Some exercises are graded.\n",
        "The maximum score you can get is 25 points.\n",
        "The score value of graded exercises is listed in the instructions.\n",
        "\n",
        "You are free to use any material (lecture, Stackoverflow etc.) except full solutions but you should first try to figure them out on your own.\n",
        "\n",
        "We use an [nbgrader](https://nbgrader.readthedocs.io/en/stable/index.html) for autograding the assignments. Many cells are read-only. Please **DO NOT** delete or copy cells. You can add new cells but your solutions should go into the designated cells.\n",
        "\n",
        "We will use the wikipedia module for some exercises. It can be installed by running pip from Jupyter:\n",
        "\n",
        "The Python Standard Library has solutions for many of these tasks but you should solve them without relying on the standard library."
      ]
    },
    {
      "cell_type": "markdown",
      "metadata": {
        "id": "dEptWQ_r7hAi"
      },
      "source": [
        "We will use the `wikipedia` module in notebook."
      ]
    },
    {
      "cell_type": "code",
      "execution_count": null,
      "metadata": {
        "id": "YdE0Y2CS7hAk",
        "outputId": "022637e4-08df-4d7c-d6ee-ea994de2b431",
        "colab": {
          "base_uri": "https://localhost:8080/"
        }
      },
      "outputs": [
        {
          "output_type": "stream",
          "name": "stdout",
          "text": [
            "Looking in indexes: https://pypi.org/simple, https://us-python.pkg.dev/colab-wheels/public/simple/\n",
            "Collecting wikipedia\n",
            "  Downloading wikipedia-1.4.0.tar.gz (27 kB)\n",
            "  Preparing metadata (setup.py) ... \u001b[?25l\u001b[?25hdone\n",
            "Requirement already satisfied: beautifulsoup4 in /usr/local/lib/python3.8/dist-packages (from wikipedia) (4.6.3)\n",
            "Requirement already satisfied: requests<3.0.0,>=2.0.0 in /usr/local/lib/python3.8/dist-packages (from wikipedia) (2.25.1)\n",
            "Requirement already satisfied: urllib3<1.27,>=1.21.1 in /usr/local/lib/python3.8/dist-packages (from requests<3.0.0,>=2.0.0->wikipedia) (1.26.14)\n",
            "Requirement already satisfied: certifi>=2017.4.17 in /usr/local/lib/python3.8/dist-packages (from requests<3.0.0,>=2.0.0->wikipedia) (2022.12.7)\n",
            "Requirement already satisfied: idna<3,>=2.5 in /usr/local/lib/python3.8/dist-packages (from requests<3.0.0,>=2.0.0->wikipedia) (2.10)\n",
            "Requirement already satisfied: chardet<5,>=3.0.2 in /usr/local/lib/python3.8/dist-packages (from requests<3.0.0,>=2.0.0->wikipedia) (4.0.0)\n",
            "Building wheels for collected packages: wikipedia\n",
            "  Building wheel for wikipedia (setup.py) ... \u001b[?25l\u001b[?25hdone\n",
            "  Created wheel for wikipedia: filename=wikipedia-1.4.0-py3-none-any.whl size=11695 sha256=776e276eb9d6d4c5601b42b86222fea87c506031dd13a61aafe718dbe3fe2385\n",
            "  Stored in directory: /root/.cache/pip/wheels/07/93/05/72c05349177dca2e0ba31a33ba4f7907606f7ddef303517c6a\n",
            "Successfully built wikipedia\n",
            "Installing collected packages: wikipedia\n",
            "Successfully installed wikipedia-1.4.0\n"
          ]
        }
      ],
      "source": [
        "! pip install wikipedia"
      ]
    },
    {
      "cell_type": "markdown",
      "metadata": {
        "deletable": false,
        "editable": false,
        "nbgrader": {
          "cell_type": "markdown",
          "checksum": "278581dc95c79f1f6dae5c7fd4e46355",
          "grade": false,
          "grade_id": "cell-76aee6a76b5a3976",
          "locked": true,
          "schema_version": 3,
          "solution": false,
          "task": false
        },
        "id": "IiEL35QV7hAo"
      },
      "source": [
        "# 1. Define a function that takes a sequence as its input and returns whether the sequence is symmetric. A sequence is symmetric if it is equal to its reverse."
      ]
    },
    {
      "cell_type": "code",
      "execution_count": null,
      "metadata": {
        "deletable": false,
        "nbgrader": {
          "cell_type": "code",
          "checksum": "fa5cf582d5918fcc3f83632867234881",
          "grade": false,
          "grade_id": "cell-9063e2fba9c7157d",
          "locked": false,
          "schema_version": 3,
          "solution": true,
          "task": false
        },
        "id": "kthiStD-7hAp"
      },
      "outputs": [],
      "source": [
        "def is_symmetric(l):\n",
        "  for i in range(len(l) // 2):\n",
        "    if \n",
        "\n",
        "\n"
      ]
    },
    {
      "cell_type": "code",
      "source": [
        "pip install -U nbqa"
      ],
      "metadata": {
        "id": "FS6JhkYDDZUs",
        "outputId": "b7ef6432-803b-4492-b854-3dbf95699453",
        "colab": {
          "base_uri": "https://localhost:8080/"
        }
      },
      "execution_count": null,
      "outputs": [
        {
          "output_type": "stream",
          "name": "stdout",
          "text": [
            "Looking in indexes: https://pypi.org/simple, https://us-python.pkg.dev/colab-wheels/public/simple/\n",
            "Collecting nbqa\n",
            "  Downloading nbqa-1.6.3-py3-none-any.whl (33 kB)\n",
            "Requirement already satisfied: ipython>=7.8.0 in /usr/local/lib/python3.8/dist-packages (from nbqa) (7.9.0)\n",
            "Requirement already satisfied: tomli in /usr/local/lib/python3.8/dist-packages (from nbqa) (2.0.1)\n",
            "Collecting tokenize-rt>=3.2.0\n",
            "  Downloading tokenize_rt-5.0.0-py2.py3-none-any.whl (5.8 kB)\n",
            "Requirement already satisfied: pickleshare in /usr/local/lib/python3.8/dist-packages (from ipython>=7.8.0->nbqa) (0.7.5)\n",
            "Requirement already satisfied: setuptools>=18.5 in /usr/local/lib/python3.8/dist-packages (from ipython>=7.8.0->nbqa) (57.4.0)\n",
            "Requirement already satisfied: pygments in /usr/local/lib/python3.8/dist-packages (from ipython>=7.8.0->nbqa) (2.6.1)\n",
            "Requirement already satisfied: pexpect in /usr/local/lib/python3.8/dist-packages (from ipython>=7.8.0->nbqa) (4.8.0)\n",
            "Requirement already satisfied: traitlets>=4.2 in /usr/local/lib/python3.8/dist-packages (from ipython>=7.8.0->nbqa) (5.7.1)\n",
            "Requirement already satisfied: decorator in /usr/local/lib/python3.8/dist-packages (from ipython>=7.8.0->nbqa) (4.4.2)\n",
            "Requirement already satisfied: backcall in /usr/local/lib/python3.8/dist-packages (from ipython>=7.8.0->nbqa) (0.2.0)\n",
            "Collecting jedi>=0.10\n",
            "  Downloading jedi-0.18.2-py2.py3-none-any.whl (1.6 MB)\n",
            "\u001b[2K     \u001b[90m━━━━━━━━━━━━━━━━━━━━━━━━━━━━━━━━━━━━━━━━\u001b[0m \u001b[32m1.6/1.6 MB\u001b[0m \u001b[31m17.8 MB/s\u001b[0m eta \u001b[36m0:00:00\u001b[0m\n",
            "\u001b[?25hRequirement already satisfied: prompt-toolkit<2.1.0,>=2.0.0 in /usr/local/lib/python3.8/dist-packages (from ipython>=7.8.0->nbqa) (2.0.10)\n",
            "Requirement already satisfied: parso<0.9.0,>=0.8.0 in /usr/local/lib/python3.8/dist-packages (from jedi>=0.10->ipython>=7.8.0->nbqa) (0.8.3)\n",
            "Requirement already satisfied: wcwidth in /usr/local/lib/python3.8/dist-packages (from prompt-toolkit<2.1.0,>=2.0.0->ipython>=7.8.0->nbqa) (0.2.6)\n",
            "Requirement already satisfied: six>=1.9.0 in /usr/local/lib/python3.8/dist-packages (from prompt-toolkit<2.1.0,>=2.0.0->ipython>=7.8.0->nbqa) (1.15.0)\n",
            "Requirement already satisfied: ptyprocess>=0.5 in /usr/local/lib/python3.8/dist-packages (from pexpect->ipython>=7.8.0->nbqa) (0.7.0)\n",
            "Installing collected packages: tokenize-rt, jedi, nbqa\n",
            "Successfully installed jedi-0.18.2 nbqa-1.6.3 tokenize-rt-5.0.0\n"
          ]
        }
      ]
    },
    {
      "cell_type": "code",
      "execution_count": null,
      "metadata": {
        "deletable": false,
        "editable": false,
        "nbgrader": {
          "cell_type": "code",
          "checksum": "53030b3050410ac3dd0c4b6548bce575",
          "grade": true,
          "grade_id": "cell-58b3ad7e361196e7",
          "locked": true,
          "points": 0,
          "schema_version": 3,
          "solution": false,
          "task": false
        },
        "id": "9Fmosr2l7hAq"
      },
      "outputs": [],
      "source": [
        "assert is_symmetric([1]) is True\n",
        "assert is_symmetric([None, None]) is True\n",
        "assert is_symmetric([]) is True\n",
        "assert is_symmetric([1, 2, 3, 1]) is False\n",
        "assert is_symmetric([1, \"foo\", \"bar\", \"foo\", 1]) is True\n",
        "assert is_symmetric(\"abcba\") is True\n",
        "assert is_symmetric(list(range(100)) + list(range(99, -1, -1))) is True\n",
        "assert is_symmetric(list(range(100)) + list(range(100, 0, -1))) is False\n",
        "assert is_symmetric([1, \"1\"]) is False"
      ]
    },
    {
      "cell_type": "markdown",
      "metadata": {
        "id": "J70lOl3Z7hAs"
      },
      "source": [
        "# String manipulation"
      ]
    },
    {
      "cell_type": "markdown",
      "metadata": {
        "deletable": false,
        "editable": false,
        "nbgrader": {
          "cell_type": "markdown",
          "checksum": "d7145e1374fb5649087517a5329eab1f",
          "grade": false,
          "grade_id": "cell-31ee0faefb4af111",
          "locked": true,
          "schema_version": 3,
          "solution": false,
          "task": false
        },
        "id": "zn8S-6UG7hAu"
      },
      "source": [
        "## 2.1 Define a function that takes a string as its input and return a dictionary with the character frequencies.\n",
        "\n",
        "Do not use the `collections` module."
      ]
    },
    {
      "cell_type": "code",
      "execution_count": null,
      "metadata": {
        "deletable": false,
        "nbgrader": {
          "cell_type": "code",
          "checksum": "8506743122a0b94c80856ef506a52943",
          "grade": false,
          "grade_id": "cell-7fbaf8610be225a9",
          "locked": false,
          "schema_version": 3,
          "solution": true,
          "task": false
        },
        "id": "sHf635Uj7hAy"
      },
      "outputs": [],
      "source": [
        "# YOUR CODE HERE\n",
        "raise NotImplementedError()"
      ]
    },
    {
      "cell_type": "code",
      "execution_count": null,
      "metadata": {
        "deletable": false,
        "editable": false,
        "nbgrader": {
          "cell_type": "code",
          "checksum": "acdcafaae2c18bb26e0756eaa5f46784",
          "grade": true,
          "grade_id": "cell-ecedb93a6c391539",
          "locked": true,
          "points": 1,
          "schema_version": 3,
          "solution": false,
          "task": false
        },
        "id": "seDwu3EW7hA0"
      },
      "outputs": [],
      "source": [
        "assert char_freq(\"aba\") == {\"a\": 2, \"b\": 1}\n",
        "assert char_freq(\"\") == {}\n",
        "assert char_freq(\"ab\" * 100 + \"cd\") == {\"a\": 100, \"b\": 100, \"c\": 1, \"d\": 1}"
      ]
    },
    {
      "cell_type": "markdown",
      "metadata": {
        "deletable": false,
        "editable": false,
        "nbgrader": {
          "cell_type": "markdown",
          "checksum": "75b1d50a7420617534fcb14f0655ef26",
          "grade": false,
          "grade_id": "cell-ec941b4366dbd59f",
          "locked": true,
          "schema_version": 3,
          "solution": false,
          "task": false
        },
        "id": "WflatEJY7hA1"
      },
      "source": [
        "## 2.2 (1p) Define a function that computes word frequencies in a text.\n",
        "\n",
        "You can split the text with `text.split()`."
      ]
    },
    {
      "cell_type": "code",
      "execution_count": null,
      "metadata": {
        "deletable": false,
        "nbgrader": {
          "cell_type": "code",
          "checksum": "bf8a0b5a81497db7772c518226de81b4",
          "grade": false,
          "grade_id": "cell-4d4d473dd807f962",
          "locked": false,
          "schema_version": 3,
          "solution": true,
          "task": false
        },
        "id": "V38Nv3qd7hA2"
      },
      "outputs": [],
      "source": [
        "# YOUR CODE HERE\n",
        "raise NotImplementedError()"
      ]
    },
    {
      "cell_type": "code",
      "execution_count": null,
      "metadata": {
        "deletable": false,
        "editable": false,
        "nbgrader": {
          "cell_type": "code",
          "checksum": "8f6ef3c72803eddabaf6cae96540fd4d",
          "grade": true,
          "grade_id": "cell-1c299c2c935129e7",
          "locked": true,
          "points": 0,
          "schema_version": 3,
          "solution": false,
          "task": false
        },
        "id": "JIq7o12f7hA3"
      },
      "outputs": [],
      "source": [
        "s = \"the green tea and the black tea\"\n",
        "assert word_freq(s) == {\"the\": 2, \"tea\": 2, \"green\": 1, \"black\": 1, \"and\": 1}\n",
        "assert word_freq(\"\") == {}"
      ]
    },
    {
      "cell_type": "markdown",
      "metadata": {
        "deletable": false,
        "editable": false,
        "nbgrader": {
          "cell_type": "markdown",
          "checksum": "b0f06ec50f0507bb0937ff5ced9330a3",
          "grade": false,
          "grade_id": "cell-82d37f261c619b9e",
          "locked": true,
          "schema_version": 3,
          "solution": false,
          "task": false
        },
        "id": "OU5ad9Qw7hA4"
      },
      "source": [
        "## 2.3 (2p) Define a function that takes two strings and decides whether they are anagrams. A string is an anagram of another string if its letters can be rearranged so that it equals the other string.¶\n",
        "\n",
        "For example:\n",
        "\n",
        "```\n",
        "abc -- bac\n",
        "aabb -- abab\n",
        "```\n",
        "\n",
        "Counter examples:\n",
        "\n",
        "```\n",
        "abc -- aabc\n",
        "abab -- aaab\n",
        "```"
      ]
    },
    {
      "cell_type": "code",
      "execution_count": null,
      "metadata": {
        "deletable": false,
        "nbgrader": {
          "cell_type": "code",
          "checksum": "239926542f0f02b5b5ff53eb054593d4",
          "grade": false,
          "grade_id": "cell-7ea849b6ffc4421a",
          "locked": false,
          "schema_version": 3,
          "solution": true,
          "task": false
        },
        "id": "hAVKIcLd7hA6"
      },
      "outputs": [],
      "source": [
        "# YOUR CODE HERE\n",
        "raise NotImplementedError()"
      ]
    },
    {
      "cell_type": "code",
      "execution_count": null,
      "metadata": {
        "deletable": false,
        "editable": false,
        "nbgrader": {
          "cell_type": "code",
          "checksum": "6bf76b10878810a731e42bb6d3b7feb3",
          "grade": true,
          "grade_id": "cell-231f78d971a5d48b",
          "locked": true,
          "points": 2,
          "schema_version": 3,
          "solution": false,
          "task": false
        },
        "id": "U3XbFXp97hA7"
      },
      "outputs": [],
      "source": [
        "assert are_anagrams(\"\", \"\") is True\n",
        "assert are_anagrams(\"abc\", \"bac\") is True\n",
        "assert are_anagrams(\"aabb\", \"abab\") is True\n",
        "assert are_anagrams(\"abab\", \"aaab\") is False"
      ]
    },
    {
      "cell_type": "markdown",
      "metadata": {
        "deletable": false,
        "editable": false,
        "nbgrader": {
          "cell_type": "markdown",
          "checksum": "f2a8d18e481ff61915c28c7343c1dab3",
          "grade": false,
          "grade_id": "cell-c7ab3adcb5a39bac",
          "locked": true,
          "schema_version": 3,
          "solution": false,
          "task": false
        },
        "id": "ItSHnJ7J7hA7"
      },
      "source": [
        "## 2.4 (2p) Define a function that takes a string and returns its bigram frequencies as a dictionary.\n",
        "\n",
        "Character bigrams are pairs of subsequent characters. For example word apple contains the following bigrams: ap, pp, pl, le.\n",
        "\n",
        "Do not use the `collections` module."
      ]
    },
    {
      "cell_type": "code",
      "execution_count": null,
      "metadata": {
        "deletable": false,
        "nbgrader": {
          "cell_type": "code",
          "checksum": "cb4f46142309d3a4026db197d82c46db",
          "grade": false,
          "grade_id": "cell-2669edc3d29b28b6",
          "locked": false,
          "schema_version": 3,
          "solution": true,
          "task": false
        },
        "id": "mHRKjOCy7hA8"
      },
      "outputs": [],
      "source": [
        "# YOUR CODE HERE\n",
        "raise NotImplementedError()"
      ]
    },
    {
      "cell_type": "code",
      "execution_count": null,
      "metadata": {
        "deletable": false,
        "editable": false,
        "nbgrader": {
          "cell_type": "code",
          "checksum": "7e547fa81e2763807d969ae959242333",
          "grade": true,
          "grade_id": "cell-5a3764a1d0909393",
          "locked": true,
          "points": 2,
          "schema_version": 3,
          "solution": false,
          "task": false
        },
        "id": "cy03mCvR7hA8"
      },
      "outputs": [],
      "source": [
        "assert get_char_bigrams(\"apple\") == {\"ap\": 1, \"pp\": 1, \"pl\": 1, \"le\": 1}\n",
        "assert get_char_bigrams(\"apple apple\") == {\n",
        "    \"ap\": 2,\n",
        "    \"pp\": 2,\n",
        "    \"pl\": 2,\n",
        "    \"le\": 2,\n",
        "    \"e \": 1,\n",
        "    \" a\": 1,\n",
        "}"
      ]
    },
    {
      "cell_type": "markdown",
      "metadata": {
        "deletable": false,
        "editable": false,
        "nbgrader": {
          "cell_type": "markdown",
          "checksum": "b7a0504ee16c0ac64f74aeae3018869b",
          "grade": false,
          "grade_id": "cell-843a6eedcc531992",
          "locked": true,
          "schema_version": 3,
          "solution": false,
          "task": false
        },
        "id": "VmvcQORD7hBA"
      },
      "source": [
        "# Wikipedia module\n",
        "\n",
        "The following exercises use the `wikipedia` package. The basic usage is illustrated below.\n",
        "\n",
        "The documentation is available [here](https://pypi.python.org/pypi/wikipedia/).\n",
        "\n",
        "Searching for pages:"
      ]
    },
    {
      "cell_type": "code",
      "execution_count": null,
      "metadata": {
        "id": "nbNV9Afw7hBB"
      },
      "outputs": [],
      "source": [
        "import wikipedia\n",
        "\n",
        "results = wikipedia.search(\"Vienna\")\n",
        "results"
      ]
    },
    {
      "cell_type": "markdown",
      "metadata": {
        "deletable": false,
        "editable": false,
        "nbgrader": {
          "cell_type": "markdown",
          "checksum": "42e7bc1a469601ae635fe2d7d8f428ac",
          "grade": false,
          "grade_id": "cell-78e29f2660bc6fbf",
          "locked": true,
          "schema_version": 3,
          "solution": false,
          "task": false
        },
        "id": "PiLRVeNk7hBC"
      },
      "source": [
        "Downloading an article:"
      ]
    },
    {
      "cell_type": "code",
      "execution_count": null,
      "metadata": {
        "id": "htq8rZ8v7hBC"
      },
      "outputs": [],
      "source": [
        "article = wikipedia.page(\"Budapest\")\n",
        "\n",
        "article.summary[:200]"
      ]
    },
    {
      "cell_type": "markdown",
      "metadata": {
        "deletable": false,
        "editable": false,
        "nbgrader": {
          "cell_type": "markdown",
          "checksum": "3b7cd156e6f361932e5cd2eafd0f3888",
          "grade": false,
          "grade_id": "cell-dc32405bbfb31d99",
          "locked": true,
          "schema_version": 3,
          "solution": false,
          "task": false
        },
        "id": "uxgCVspC7hBD"
      },
      "source": [
        "The content attribute contains the full text:"
      ]
    },
    {
      "cell_type": "code",
      "execution_count": null,
      "metadata": {
        "id": "XKzN23N17hBE"
      },
      "outputs": [],
      "source": [
        "type(article.content), len(article.content)"
      ]
    },
    {
      "cell_type": "markdown",
      "metadata": {
        "deletable": false,
        "editable": false,
        "nbgrader": {
          "cell_type": "markdown",
          "checksum": "0c48587c5a71b46669047f43917b37f0",
          "grade": false,
          "grade_id": "cell-ebc4708eb9ec8edb",
          "locked": true,
          "schema_version": 3,
          "solution": false,
          "task": false
        },
        "id": "bI_5dBHV7hBH"
      },
      "source": [
        "By default the module downloads the English Wikipedia. The language can be changed the following way:"
      ]
    },
    {
      "cell_type": "code",
      "execution_count": null,
      "metadata": {
        "id": "tew8nMSs7hBI"
      },
      "outputs": [],
      "source": [
        "wikipedia.set_lang(\"de\")"
      ]
    },
    {
      "cell_type": "code",
      "execution_count": null,
      "metadata": {
        "id": "HV-6vKDK7hBL"
      },
      "outputs": [],
      "source": [
        "wikipedia.search(\"Budapest\")"
      ]
    },
    {
      "cell_type": "code",
      "execution_count": null,
      "metadata": {
        "id": "qw6Vm5NX7hBL"
      },
      "outputs": [],
      "source": [
        "de_article = wikipedia.page(\"Budapest\")\n",
        "de_article.summary[:100]"
      ]
    },
    {
      "cell_type": "code",
      "execution_count": null,
      "metadata": {
        "id": "F7M1DHAR7hBM"
      },
      "outputs": [],
      "source": [
        "wikipedia.set_lang(\"en\")"
      ]
    },
    {
      "cell_type": "markdown",
      "metadata": {
        "deletable": false,
        "editable": false,
        "nbgrader": {
          "cell_type": "markdown",
          "checksum": "fa92e56d609af0b5c7559b090612bbc8",
          "grade": false,
          "grade_id": "cell-95be16d5cc290d23",
          "locked": true,
          "schema_version": 3,
          "solution": false,
          "task": false
        },
        "id": "FbJGjfoA7hBN"
      },
      "source": [
        "## 3.1 (5p) Build a small Wikipedia corpus by downloading pages until their character count exceeds 100000. The corpus should be a list of strings.\n",
        "\n",
        "You can download arbitrary pages but some pages redirect to disambiguation pages. You should not pick these. Make sure the same page is not included multiple times."
      ]
    },
    {
      "cell_type": "code",
      "execution_count": null,
      "metadata": {
        "deletable": false,
        "nbgrader": {
          "cell_type": "code",
          "checksum": "04c921ddca419c1b935dfad982d37f2b",
          "grade": false,
          "grade_id": "cell-2e7be91b99158dca",
          "locked": false,
          "schema_version": 3,
          "solution": true,
          "task": false
        },
        "id": "-tf9npi47hBN"
      },
      "outputs": [],
      "source": [
        "# YOUR CODE HERE\n",
        "raise NotImplementedError()"
      ]
    },
    {
      "cell_type": "code",
      "execution_count": null,
      "metadata": {
        "deletable": false,
        "editable": false,
        "nbgrader": {
          "cell_type": "code",
          "checksum": "735a8d5d5b34d9882142362f49a58b48",
          "grade": true,
          "grade_id": "cell-f26aa917928c62c8",
          "locked": true,
          "points": 5,
          "schema_version": 3,
          "solution": false,
          "task": false
        },
        "id": "9C3ZSi1P7hBO"
      },
      "outputs": [],
      "source": [
        "corpus = build_wikipedia_corpus()\n",
        "# check types\n",
        "assert isinstance(corpus, list)\n",
        "assert isinstance(corpus[0], str)\n",
        "\n",
        "# check character count\n",
        "sum_length = 0\n",
        "for document in corpus:\n",
        "    sum_length += len(document)\n",
        "assert sum_length >= 100000\n",
        "\n",
        "# no duplicate pages\n",
        "assert len(set(corpus)) == len(corpus)"
      ]
    },
    {
      "cell_type": "markdown",
      "metadata": {
        "deletable": false,
        "editable": false,
        "nbgrader": {
          "cell_type": "markdown",
          "checksum": "1dbe701f50c44dbb49e4f54848b15c39",
          "grade": false,
          "grade_id": "cell-c560b4af51f932f1",
          "locked": true,
          "schema_version": 3,
          "solution": false,
          "task": false
        },
        "id": "xgUD-7Tm7hBP"
      },
      "source": [
        "## 3.2 (2p) Add a `min_char` parameter to `build_wikipedia_corpus` that defaults to 10000. You should stop building the corpus when this number is reached."
      ]
    },
    {
      "cell_type": "code",
      "execution_count": null,
      "metadata": {
        "deletable": false,
        "nbgrader": {
          "cell_type": "code",
          "checksum": "84ae0263b8784b0d38ac61698af0f108",
          "grade": false,
          "grade_id": "cell-bf7ffeba0644e753",
          "locked": false,
          "schema_version": 3,
          "solution": true,
          "task": false
        },
        "id": "KYS6YWpW7hBQ"
      },
      "outputs": [],
      "source": [
        "# YOUR CODE HERE\n",
        "raise NotImplementedError()"
      ]
    },
    {
      "cell_type": "code",
      "execution_count": null,
      "metadata": {
        "deletable": false,
        "editable": false,
        "nbgrader": {
          "cell_type": "code",
          "checksum": "319fc9a7638a850cbbb721ce34b3f613",
          "grade": true,
          "grade_id": "cell-68c3de00731699f8",
          "locked": true,
          "points": 2,
          "schema_version": 3,
          "solution": false,
          "task": false
        },
        "id": "31qANlr07hBS"
      },
      "outputs": [],
      "source": [
        "corpus = build_wikipedia_corpus(1000)\n",
        "# check types\n",
        "assert isinstance(corpus, list)\n",
        "assert isinstance(corpus[0], str)\n",
        "\n",
        "# check character count\n",
        "sum_length = 0\n",
        "for document in corpus:\n",
        "    sum_length += len(document)\n",
        "assert sum_length >= 1000\n",
        "# shouldn't be too long\n",
        "assert sum_length < 100000"
      ]
    },
    {
      "cell_type": "markdown",
      "metadata": {
        "deletable": false,
        "editable": false,
        "nbgrader": {
          "cell_type": "markdown",
          "checksum": "590518197131ed37b21e61b40309fd6a",
          "grade": false,
          "grade_id": "cell-a132e8fee5967805",
          "locked": true,
          "schema_version": 3,
          "solution": false,
          "task": false
        },
        "id": "YeGv0pU47hBT"
      },
      "source": [
        "## 3.3 (3p) Compute the word frequencies of your Wikipedia corpus. Return the $k$ most frequent words with their frequencies as a list of tuples. $k$ should default to 10. The list should be ordered by frequency starting from the most frequent.\n",
        "\n",
        "You can use str.split() for word tokenization."
      ]
    },
    {
      "cell_type": "code",
      "execution_count": null,
      "metadata": {
        "deletable": false,
        "nbgrader": {
          "cell_type": "code",
          "checksum": "54fdc3c7b8b56fc1f4878e468ed37050",
          "grade": false,
          "grade_id": "cell-8c167ceb2a4c65f1",
          "locked": false,
          "schema_version": 3,
          "solution": true,
          "task": false
        },
        "id": "gNT3k52G7hBU"
      },
      "outputs": [],
      "source": [
        "# YOUR CODE HERE\n",
        "raise NotImplementedError()"
      ]
    },
    {
      "cell_type": "code",
      "execution_count": null,
      "metadata": {
        "deletable": false,
        "editable": false,
        "nbgrader": {
          "cell_type": "code",
          "checksum": "2428800ef5d9c86e3508622b3e067c00",
          "grade": true,
          "grade_id": "cell-d17a9e499c13bd35",
          "locked": true,
          "points": 3,
          "schema_version": 3,
          "solution": false,
          "task": false
        },
        "id": "cdwi6zFt7hBU"
      },
      "outputs": [],
      "source": [
        "top_words_and_freqs = get_corpus_word_frequencies(corpus)\n",
        "assert isinstance(top_words_and_freqs, list)\n",
        "assert len(top_words_and_freqs) == 10\n",
        "assert isinstance(top_words_and_freqs[0], tuple)\n",
        "\n",
        "# Frequency of the most frequent word\n",
        "fr = top_words_and_freqs[0][1]\n",
        "\n",
        "for word, freq in top_words_and_freqs:\n",
        "    assert isinstance(word, str)\n",
        "    assert isinstance(freq, int)\n",
        "    # Check decreasing order\n",
        "    assert freq <= fr\n",
        "    fr = freq\n",
        "\n",
        "top_words_and_freqs5 = get_corpus_word_frequencies(corpus, k=5)\n",
        "assert len(top_words_and_freqs5) == 5"
      ]
    },
    {
      "cell_type": "markdown",
      "metadata": {
        "deletable": false,
        "editable": false,
        "nbgrader": {
          "cell_type": "markdown",
          "checksum": "5ce6aaedaa2eacbc1d78a1f49e303b12",
          "grade": false,
          "grade_id": "cell-2734f82ba43bf34d",
          "locked": true,
          "schema_version": 3,
          "solution": false,
          "task": false
        },
        "id": "fVW4Tesk7hBV"
      },
      "source": [
        "## 3.4.2 Print the ten most frequent words and their frequency in the following format:\n",
        "\n",
        "```\n",
        "a<TAB>12\n",
        "an<TAB>11\n",
        "```"
      ]
    },
    {
      "cell_type": "code",
      "execution_count": null,
      "metadata": {
        "deletable": false,
        "nbgrader": {
          "cell_type": "code",
          "checksum": "3a514dbba3ed6e12a39fcfcbe51f0c7a",
          "grade": false,
          "grade_id": "cell-bc2d984be320ff7c",
          "locked": false,
          "schema_version": 3,
          "solution": true,
          "task": false
        },
        "id": "-_XeladS7hBW"
      },
      "outputs": [],
      "source": [
        "# YOUR CODE HERE\n",
        "raise NotImplementedError()"
      ]
    },
    {
      "cell_type": "markdown",
      "metadata": {
        "id": "EVStvFJP7hBW"
      },
      "source": [
        "# Linear algebra"
      ]
    },
    {
      "cell_type": "markdown",
      "metadata": {
        "deletable": false,
        "editable": false,
        "nbgrader": {
          "cell_type": "markdown",
          "checksum": "8ecd0d97c2fae3693da35696561b2da4",
          "grade": false,
          "grade_id": "cell-3ff21ab0f0a271e3",
          "locked": true,
          "schema_version": 3,
          "solution": false,
          "task": false
        },
        "id": "XbNlveSA7hBX"
      },
      "source": [
        "## 4.1 (2p) Define a function that takes a list of lists and decided if it is a matrix. A list of lists is a matrix if each nested list is the same length."
      ]
    },
    {
      "cell_type": "code",
      "execution_count": null,
      "metadata": {
        "deletable": false,
        "nbgrader": {
          "cell_type": "code",
          "checksum": "1e8206f402442b88e543379b500409d5",
          "grade": false,
          "grade_id": "cell-90b341f4b426d33d",
          "locked": false,
          "schema_version": 3,
          "solution": true,
          "task": false
        },
        "id": "NKyocvTw7hBY"
      },
      "outputs": [],
      "source": [
        "# YOUR CODE HERE\n",
        "raise NotImplementedError()"
      ]
    },
    {
      "cell_type": "code",
      "execution_count": null,
      "metadata": {
        "deletable": false,
        "editable": false,
        "nbgrader": {
          "cell_type": "code",
          "checksum": "a9b81810999e0b3b9b703bfe5beb90db",
          "grade": true,
          "grade_id": "cell-218d090c410748b5",
          "locked": true,
          "points": 2,
          "schema_version": 3,
          "solution": false,
          "task": false
        },
        "id": "XkjIZvod7hBZ"
      },
      "outputs": [],
      "source": [
        "assert is_matrix([]) is True\n",
        "assert is_matrix([[], []]) is True\n",
        "assert is_matrix([[1, 2], [2, 1]]) is True\n",
        "assert is_matrix([[1], [2, 1]]) is False\n",
        "assert is_matrix([[1, 2], [2, 1], [3, 4]]) is True\n",
        "assert is_matrix([[1, 2], [2, 1], [3, 4, 5]]) is False"
      ]
    },
    {
      "cell_type": "markdown",
      "metadata": {
        "deletable": false,
        "editable": false,
        "nbgrader": {
          "cell_type": "markdown",
          "checksum": "b1208c1a5d0055907cfa32d02091d101",
          "grade": false,
          "grade_id": "cell-2ff6396d150fb578",
          "locked": true,
          "schema_version": 3,
          "solution": false,
          "task": false
        },
        "id": "r29oTv9I7hBZ"
      },
      "source": [
        "## 4.2 (2p) Define a function that takes a matrix as an input represented as a list of lists. Return its transpose without changing the original matrix.\n",
        "\n",
        "Raise a `ValueError` if the input is not a valid matrix. Don't forget to reuse your code."
      ]
    },
    {
      "cell_type": "code",
      "execution_count": null,
      "metadata": {
        "deletable": false,
        "nbgrader": {
          "cell_type": "code",
          "checksum": "6d72fe6b282df6792f21ba7bb1609def",
          "grade": false,
          "grade_id": "cell-adee24575dcbac8e",
          "locked": false,
          "schema_version": 3,
          "solution": true,
          "task": false
        },
        "id": "EmckeigF7hBa"
      },
      "outputs": [],
      "source": [
        "# YOUR CODE HERE\n",
        "raise NotImplementedError()"
      ]
    },
    {
      "cell_type": "code",
      "execution_count": null,
      "metadata": {
        "deletable": false,
        "editable": false,
        "nbgrader": {
          "cell_type": "code",
          "checksum": "d981175f24d7b7a291441a7845795dc8",
          "grade": true,
          "grade_id": "cell-9b412cb3d0c0506a",
          "locked": true,
          "points": 2,
          "schema_version": 3,
          "solution": false,
          "task": false
        },
        "id": "zxAOd09B7hBa"
      },
      "outputs": [],
      "source": [
        "m1 = [[1, 2, 3], [4, 5, 6]]\n",
        "m2 = [[1, 4], [2, 5], [3, 6]]\n",
        "\n",
        "assert transpose([[1]]) == [[1]]\n",
        "assert transpose(m1) == m2\n",
        "# m1 is unchanged\n",
        "assert m1 == [[1, 2, 3], [4, 5, 6]]\n",
        "\n",
        "# transpose is an involution (self-inverse)\n",
        "assert transpose(transpose(m1)) == m1"
      ]
    },
    {
      "cell_type": "markdown",
      "metadata": {
        "deletable": false,
        "editable": false,
        "nbgrader": {
          "cell_type": "markdown",
          "checksum": "109bce0837c5a6da2a1c2f2fdc51540f",
          "grade": false,
          "grade_id": "cell-6447dbadcb503d60",
          "locked": true,
          "schema_version": 3,
          "solution": false,
          "task": false
        },
        "id": "z47dJvdM7hBb"
      },
      "source": [
        "## 4.3 (1p) Define a function that takes a matrix as its input and returns the row-wise maximum elements as a list.\n",
        "\n",
        "Raise a `ValueError` if the input is not a valid matrix. Don't forget to reuse your code."
      ]
    },
    {
      "cell_type": "code",
      "execution_count": null,
      "metadata": {
        "deletable": false,
        "nbgrader": {
          "cell_type": "code",
          "checksum": "2652c8da70bda918810c923555ce3aab",
          "grade": false,
          "grade_id": "cell-21f91aada57c0332",
          "locked": false,
          "schema_version": 3,
          "solution": true,
          "task": false
        },
        "id": "1USBHDvY7hBc"
      },
      "outputs": [],
      "source": [
        "# YOUR CODE HERE\n",
        "raise NotImplementedError()"
      ]
    },
    {
      "cell_type": "code",
      "execution_count": null,
      "metadata": {
        "deletable": false,
        "editable": false,
        "nbgrader": {
          "cell_type": "code",
          "checksum": "493a7791aec07cff034cc3031467f10e",
          "grade": true,
          "grade_id": "cell-eb440f91ea977032",
          "locked": true,
          "points": 1,
          "schema_version": 3,
          "solution": false,
          "task": false
        },
        "id": "DYIE5rwo7hBd"
      },
      "outputs": [],
      "source": [
        "assert rowwise_max(\n",
        "    [\n",
        "        [1, 2, 3],\n",
        "        [1, 4, 3],\n",
        "        [1, 5, 3],\n",
        "    ]\n",
        ") == [3, 4, 5]\n",
        "\n",
        "assert rowwise_max([list(range(1000))]) == [999]\n",
        "assert rowwise_max(transpose([list(range(1000))])) == list(range(1000))"
      ]
    },
    {
      "cell_type": "markdown",
      "metadata": {
        "deletable": false,
        "editable": false,
        "nbgrader": {
          "cell_type": "markdown",
          "checksum": "2f4ee5b9e67cc2fe625efe25d640a7d9",
          "grade": false,
          "grade_id": "cell-d497ed3bf67b2435",
          "locked": true,
          "schema_version": 3,
          "solution": false,
          "task": false
        },
        "id": "Crsun-1q7hBg"
      },
      "source": [
        "## 4.4 (2p) Define a function that takes a matrix as its input and returns the column-wise maximum elements as a list.\n",
        "\n",
        "Try to reuse your previous functions."
      ]
    },
    {
      "cell_type": "code",
      "execution_count": null,
      "metadata": {
        "deletable": false,
        "nbgrader": {
          "cell_type": "code",
          "checksum": "b9ea1d5db6192330853b033b5b00ab43",
          "grade": false,
          "grade_id": "cell-bde0cb9cf8d75c89",
          "locked": false,
          "schema_version": 3,
          "solution": true,
          "task": false
        },
        "id": "jzFY07Pm7hBh"
      },
      "outputs": [],
      "source": [
        "# YOUR CODE HERE\n",
        "raise NotImplementedError()"
      ]
    },
    {
      "cell_type": "code",
      "execution_count": null,
      "metadata": {
        "deletable": false,
        "editable": false,
        "nbgrader": {
          "cell_type": "code",
          "checksum": "91e72b16b0232ce1ff967c81f7bbd86a",
          "grade": true,
          "grade_id": "cell-142e6034ed15005b",
          "locked": true,
          "points": 2,
          "schema_version": 3,
          "solution": false,
          "task": false
        },
        "id": "vHiFtqtx7hBi"
      },
      "outputs": [],
      "source": [
        "assert columnwise_max(\n",
        "    [\n",
        "        [1, 2, 3],\n",
        "        [1, 4, 3],\n",
        "        [1, 5, 3],\n",
        "    ]\n",
        ") == [1, 5, 3]\n",
        "\n",
        "assert columnwise_max([list(range(1000))]) == list(range(1000))\n",
        "assert columnwise_max(transpose([list(range(1000))])) == [999]"
      ]
    },
    {
      "cell_type": "markdown",
      "metadata": {
        "deletable": false,
        "editable": false,
        "nbgrader": {
          "cell_type": "markdown",
          "checksum": "745bf8c744aea75ba83a4b61e83d9042",
          "grade": false,
          "grade_id": "cell-6121a01202b8b3f4",
          "locked": true,
          "schema_version": 3,
          "solution": false,
          "task": false
        },
        "id": "7ouq-x4N7hBi"
      },
      "source": [
        "## 4.5 (3p) Define a function that takes two vectors represented as lists and returns their L2 distance.\n",
        "\n",
        "Also called Euclidean distance."
      ]
    },
    {
      "cell_type": "code",
      "execution_count": null,
      "metadata": {
        "deletable": false,
        "nbgrader": {
          "cell_type": "code",
          "checksum": "7c89e75bbe528f9924c297e03cb3d898",
          "grade": false,
          "grade_id": "cell-849b6ea4c65f058e",
          "locked": false,
          "schema_version": 3,
          "solution": true,
          "task": false
        },
        "id": "hmHQunMG7hBi"
      },
      "outputs": [],
      "source": [
        "# YOUR CODE HERE\n",
        "raise NotImplementedError()"
      ]
    },
    {
      "cell_type": "code",
      "execution_count": null,
      "metadata": {
        "deletable": false,
        "editable": false,
        "nbgrader": {
          "cell_type": "code",
          "checksum": "2da045094b58ca5420f36e4de76a042c",
          "grade": true,
          "grade_id": "cell-4c9f06a8534cbefc",
          "locked": true,
          "points": 3,
          "schema_version": 3,
          "solution": false,
          "task": false
        },
        "id": "1fYTn8F77hBj"
      },
      "outputs": [],
      "source": [
        "assert abs(l2_distance([1, 0], [1, 0]) - 0) < 1e-5\n",
        "assert abs(l2_distance([1, 0], [0, 1]) - 2**0.5) < 1e-5"
      ]
    },
    {
      "cell_type": "markdown",
      "metadata": {
        "deletable": false,
        "editable": false,
        "nbgrader": {
          "cell_type": "markdown",
          "checksum": "4f3d2fa22bf571d8c99b44d27de9730c",
          "grade": false,
          "grade_id": "cell-8d38b914ec98f2be",
          "locked": true,
          "schema_version": 3,
          "solution": false,
          "task": false
        },
        "id": "B-78eRNA7hBj"
      },
      "source": [
        "## 4.6 Create a function that takes a matrix of size NxM and returns the pairwise L2 distance of each row pair.\n",
        "\n",
        "For input $A^{N \\times M}$, the output should be $D^{N \\times N}$ where: $D_{i,j} = L_2 (A_i, A_j)$"
      ]
    },
    {
      "cell_type": "code",
      "execution_count": null,
      "metadata": {
        "deletable": false,
        "nbgrader": {
          "cell_type": "code",
          "checksum": "80bcb4c2f3f8cead8816494483b6ec74",
          "grade": false,
          "grade_id": "cell-644d3391fc995ee9",
          "locked": false,
          "schema_version": 3,
          "solution": true,
          "task": false
        },
        "id": "_pJAG-aC7hBk"
      },
      "outputs": [],
      "source": [
        "# YOUR CODE HERE\n",
        "raise NotImplementedError()"
      ]
    },
    {
      "cell_type": "code",
      "execution_count": null,
      "metadata": {
        "deletable": false,
        "editable": false,
        "nbgrader": {
          "cell_type": "code",
          "checksum": "b1ad00fa9849166dcb1604d4fa161036",
          "grade": true,
          "grade_id": "cell-8bc3cf03b303c7c3",
          "locked": true,
          "points": 0,
          "schema_version": 3,
          "solution": false,
          "task": false
        },
        "id": "aPdr5ZXs7hBl"
      },
      "outputs": [],
      "source": [
        "D = pairwise_row_distance([[1, 0, 2], [0, 2, 1]])\n",
        "# should be a matrix\n",
        "assert is_matrix(D) is True\n",
        "assert len(D) == 2\n",
        "assert len(D[0]) == 2\n",
        "assert D[0][0] == 0\n",
        "assert abs(D[0][1] - 2.449489742783178) < 1e-3\n",
        "assert abs(D[1][0] - 2.449489742783178) < 1e-3\n",
        "assert D[1][1] == 0\n",
        "\n",
        "# should be symmetric\n",
        "assert transpose(D) == D"
      ]
    }
  ],
  "metadata": {
    "kernelspec": {
      "display_name": "Python 3 (ipykernel)",
      "language": "python",
      "name": "python3"
    },
    "language_info": {
      "codemirror_mode": {
        "name": "ipython",
        "version": 3
      },
      "file_extension": ".py",
      "mimetype": "text/x-python",
      "name": "python",
      "nbconvert_exporter": "python",
      "pygments_lexer": "ipython3",
      "version": "3.8.5"
    },
    "toc": {
      "base_numbering": 1,
      "nav_menu": {},
      "number_sections": false,
      "sideBar": true,
      "skip_h1_title": false,
      "title_cell": "Table of Contents",
      "title_sidebar": "Contents",
      "toc_cell": false,
      "toc_position": {
        "height": "calc(100% - 180px)",
        "left": "10px",
        "top": "150px",
        "width": "662px"
      },
      "toc_section_display": true,
      "toc_window_display": true
    },
    "colab": {
      "provenance": [],
      "include_colab_link": true
    }
  },
  "nbformat": 4,
  "nbformat_minor": 0
}