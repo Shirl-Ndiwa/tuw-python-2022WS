{
 "cells": [
  {
   "cell_type": "markdown",
   "metadata": {
    "deletable": false,
    "editable": false,
    "nbgrader": {
     "cell_type": "markdown",
     "checksum": "880abeff0ad43082ade59a7d00703ef1",
     "grade": false,
     "grade_id": "cell-b32cc7a0861f7655",
     "locked": true,
     "schema_version": 3,
     "solution": false,
     "task": false
    }
   },
   "source": [
    "# Programming in Python\n",
    "\n",
    "__Laboratory 02, Type system and built-in types__\n",
    "\n",
    "__Sept 27, 2022__\n",
    "\n",
    "__Submission deadline: Sept 29 23:59__\n",
    "\n",
    "__Submissions must be made through Github Classroom__\n",
    "\n",
    "Some exercises are graded.\n",
    "The maximum score you can get is 25 points.\n",
    "The score value of graded exercises is listed in the instructions.\n",
    "\n",
    "You are free to use any material (lecture, Stackoverflow etc.) except full solutions but you should first try to figure them out on your own.\n",
    "\n",
    "We use an [nbgrader](https://nbgrader.readthedocs.io/en/stable/index.html) for autograding the assignments. Many cells are read-only. Please **DO NOT** delete or copy cells. You can add new cells but your solutions should go into the designated cells.\n",
    "\n",
    "We will use the wikipedia module for some exercises. It can be installed by running pip from Jupyter:\n",
    "\n",
    "The Python Standard Library has solutions for many of these tasks but you should solve them without relying on the standard library."
   ]
  },
  {
   "cell_type": "markdown",
   "metadata": {},
   "source": [
    "We will use the `wikipedia` module in notebook."
   ]
  },
  {
   "cell_type": "code",
   "execution_count": 9,
   "metadata": {},
   "outputs": [
    {
     "name": "stdout",
     "output_type": "stream",
     "text": [
      "Requirement already satisfied: wikipedia in /usr/local/python/3.10.4/lib/python3.10/site-packages (1.4.0)\n",
      "Requirement already satisfied: requests<3.0.0,>=2.0.0 in /home/codespace/.local/lib/python3.10/site-packages (from wikipedia) (2.28.2)\n",
      "Requirement already satisfied: beautifulsoup4 in /home/codespace/.local/lib/python3.10/site-packages (from wikipedia) (4.11.2)\n",
      "Requirement already satisfied: idna<4,>=2.5 in /home/codespace/.local/lib/python3.10/site-packages (from requests<3.0.0,>=2.0.0->wikipedia) (3.4)\n",
      "Requirement already satisfied: certifi>=2017.4.17 in /home/codespace/.local/lib/python3.10/site-packages (from requests<3.0.0,>=2.0.0->wikipedia) (2022.12.7)\n",
      "Requirement already satisfied: urllib3<1.27,>=1.21.1 in /home/codespace/.local/lib/python3.10/site-packages (from requests<3.0.0,>=2.0.0->wikipedia) (1.26.14)\n",
      "Requirement already satisfied: charset-normalizer<4,>=2 in /home/codespace/.local/lib/python3.10/site-packages (from requests<3.0.0,>=2.0.0->wikipedia) (3.0.1)\n",
      "Requirement already satisfied: soupsieve>1.2 in /home/codespace/.local/lib/python3.10/site-packages (from beautifulsoup4->wikipedia) (2.4)\n"
     ]
    }
   ],
   "source": [
    "! pip install wikipedia"
   ]
  },
  {
   "cell_type": "markdown",
   "metadata": {
    "deletable": false,
    "editable": false,
    "nbgrader": {
     "cell_type": "markdown",
     "checksum": "278581dc95c79f1f6dae5c7fd4e46355",
     "grade": false,
     "grade_id": "cell-76aee6a76b5a3976",
     "locked": true,
     "schema_version": 3,
     "solution": false,
     "task": false
    }
   },
   "source": [
    "# 1. Define a function that takes a sequence as its input and returns whether the sequence is symmetric. A sequence is symmetric if it is equal to its reverse."
   ]
  },
  {
   "cell_type": "code",
   "execution_count": 7,
   "metadata": {
    "deletable": false,
    "nbgrader": {
     "cell_type": "code",
     "checksum": "fa5cf582d5918fcc3f83632867234881",
     "grade": false,
     "grade_id": "cell-9063e2fba9c7157d",
     "locked": false,
     "schema_version": 3,
     "solution": true,
     "task": false
    }
   },
   "outputs": [],
   "source": [
    "def is_symmetric(l):\n",
    "    for i in range(len(l) // 2):\n",
    "        if l[i] != l[-(i + 1)]:\n",
    "            return False\n",
    "    return True"
   ]
  },
  {
   "cell_type": "code",
   "execution_count": 14,
   "metadata": {},
   "outputs": [
    {
     "name": "stdout",
     "output_type": "stream",
     "text": [
      "True\n"
     ]
    }
   ],
   "source": [
    "print(is_symmetric([1]))"
   ]
  },
  {
   "cell_type": "code",
   "execution_count": 8,
   "metadata": {
    "deletable": false,
    "editable": false,
    "nbgrader": {
     "cell_type": "code",
     "checksum": "53030b3050410ac3dd0c4b6548bce575",
     "grade": true,
     "grade_id": "cell-58b3ad7e361196e7",
     "locked": true,
     "points": 0,
     "schema_version": 3,
     "solution": false,
     "task": false
    }
   },
   "outputs": [],
   "source": [
    "assert is_symmetric([1]) is True\n",
    "assert is_symmetric([None, None]) is True\n",
    "assert is_symmetric([]) is True\n",
    "assert is_symmetric([1, 2, 3, 1]) is False\n",
    "assert is_symmetric([1, \"foo\", \"bar\", \"foo\", 1]) is True\n",
    "assert is_symmetric(\"abcba\") is True\n",
    "assert is_symmetric(list(range(100)) + list(range(99, -1, -1))) is True\n",
    "assert is_symmetric(list(range(100)) + list(range(100, 0, -1))) is False\n",
    "assert is_symmetric([1, \"1\"]) is False"
   ]
  },
  {
   "cell_type": "markdown",
   "metadata": {},
   "source": [
    "# String manipulation"
   ]
  },
  {
   "cell_type": "markdown",
   "metadata": {
    "deletable": false,
    "editable": false,
    "nbgrader": {
     "cell_type": "markdown",
     "checksum": "d7145e1374fb5649087517a5329eab1f",
     "grade": false,
     "grade_id": "cell-31ee0faefb4af111",
     "locked": true,
     "schema_version": 3,
     "solution": false,
     "task": false
    }
   },
   "source": [
    "## 2.1 Define a function that takes a string as its input and return a dictionary with the character frequencies.\n",
    "\n",
    "Do not use the `collections` module."
   ]
  },
  {
   "cell_type": "code",
   "execution_count": 5,
   "metadata": {},
   "outputs": [],
   "source": [
    "def char_freq(string):\n",
    "    dict = {}\n",
    "\n",
    "    for i in string:\n",
    "        keys = dict.keys()\n",
    "        if i in keys:\n",
    "            dict[i] +=1\n",
    "        else:\n",
    "            dict[i] = 1\n",
    "    return dict"
   ]
  },
  {
   "cell_type": "code",
   "execution_count": 6,
   "metadata": {
    "deletable": false,
    "editable": false,
    "nbgrader": {
     "cell_type": "code",
     "checksum": "acdcafaae2c18bb26e0756eaa5f46784",
     "grade": true,
     "grade_id": "cell-ecedb93a6c391539",
     "locked": true,
     "points": 1,
     "schema_version": 3,
     "solution": false,
     "task": false
    }
   },
   "outputs": [],
   "source": [
    "assert char_freq(\"aba\") == {\"a\": 2, \"b\": 1}\n",
    "assert char_freq(\"\") == {}\n",
    "assert char_freq(\"ab\" * 100 + \"cd\") == {\"a\": 100, \"b\": 100, \"c\": 1, \"d\": 1}"
   ]
  },
  {
   "cell_type": "code",
   "execution_count": 10,
   "metadata": {},
   "outputs": [
    {
     "name": "stdout",
     "output_type": "stream",
     "text": [
      "Counter({'a': 2, 'b': 1})\n"
     ]
    }
   ],
   "source": [
    "# using collections module\n",
    "\n",
    "\n",
    "import collections\n",
    "\n",
    "def char_freq1(string):\n",
    "    return collections.Counter(string)\n",
    "print(char_freq1(\"aba\"))"
   ]
  },
  {
   "cell_type": "markdown",
   "metadata": {
    "deletable": false,
    "editable": false,
    "nbgrader": {
     "cell_type": "markdown",
     "checksum": "75b1d50a7420617534fcb14f0655ef26",
     "grade": false,
     "grade_id": "cell-ec941b4366dbd59f",
     "locked": true,
     "schema_version": 3,
     "solution": false,
     "task": false
    }
   },
   "source": [
    "## 2.2 (1p) Define a function that computes word frequencies in a text.\n",
    "\n",
    "You can split the text with `text.split()`."
   ]
  },
  {
   "cell_type": "code",
   "execution_count": 8,
   "metadata": {
    "deletable": false,
    "nbgrader": {
     "cell_type": "code",
     "checksum": "bf8a0b5a81497db7772c518226de81b4",
     "grade": false,
     "grade_id": "cell-4d4d473dd807f962",
     "locked": false,
     "schema_version": 3,
     "solution": true,
     "task": false
    }
   },
   "outputs": [
    {
     "data": {
      "text/plain": [
       "{'I': 1, 'am': 1, 'happy': 1, 'today': 2, 'because': 1}"
      ]
     },
     "execution_count": 8,
     "metadata": {},
     "output_type": "execute_result"
    }
   ],
   "source": [
    "def word_freq(text):\n",
    "    word_list = text.split()\n",
    "    word_dict = {}\n",
    "\n",
    "    for word in word_list:\n",
    "        if word in word_dict:\n",
    "            word_dict[word] +=1\n",
    "        else:\n",
    "            word_dict[word] = 1\n",
    "    return word_dict\n",
    "\n",
    "word_freq(\"I am happy today because today\")"
   ]
  },
  {
   "cell_type": "code",
   "execution_count": 7,
   "metadata": {
    "deletable": false,
    "editable": false,
    "nbgrader": {
     "cell_type": "code",
     "checksum": "8f6ef3c72803eddabaf6cae96540fd4d",
     "grade": true,
     "grade_id": "cell-1c299c2c935129e7",
     "locked": true,
     "points": 0,
     "schema_version": 3,
     "solution": false,
     "task": false
    }
   },
   "outputs": [],
   "source": [
    "s = \"the green tea and the black tea\"\n",
    "assert word_freq(s) == {\"the\": 2, \"tea\": 2, \"green\": 1, \"black\": 1, \"and\": 1}\n",
    "assert word_freq(\"\") == {}"
   ]
  },
  {
   "cell_type": "markdown",
   "metadata": {
    "deletable": false,
    "editable": false,
    "nbgrader": {
     "cell_type": "markdown",
     "checksum": "b0f06ec50f0507bb0937ff5ced9330a3",
     "grade": false,
     "grade_id": "cell-82d37f261c619b9e",
     "locked": true,
     "schema_version": 3,
     "solution": false,
     "task": false
    }
   },
   "source": [
    "## 2.3 (2p) Define a function that takes two strings and decides whether they are anagrams. A string is an anagram of another string if its letters can be rearranged so that it equals the other string.¶\n",
    "\n",
    "For example:\n",
    "\n",
    "```\n",
    "abc -- bac\n",
    "aabb -- abab\n",
    "```\n",
    "\n",
    "Counter examples:\n",
    "\n",
    "```\n",
    "abc -- aabc\n",
    "abab -- aaab\n",
    "```"
   ]
  },
  {
   "cell_type": "code",
   "execution_count": 2,
   "metadata": {
    "deletable": false,
    "nbgrader": {
     "cell_type": "code",
     "checksum": "239926542f0f02b5b5ff53eb054593d4",
     "grade": false,
     "grade_id": "cell-7ea849b6ffc4421a",
     "locked": false,
     "schema_version": 3,
     "solution": true,
     "task": false
    }
   },
   "outputs": [],
   "source": [
    "def are_anagrams(str1, str2):\n",
    "    str1 = str1.replace(\" \", \"\").lower()\n",
    "    str2 = str2.replace(\" \", \"\").lower()\n",
    "    return sorted(str1) == sorted(str2)"
   ]
  },
  {
   "cell_type": "code",
   "execution_count": 1,
   "metadata": {},
   "outputs": [
    {
     "name": "stdout",
     "output_type": "stream",
     "text": [
      "('abc', 'bac')\n"
     ]
    }
   ],
   "source": [
    "print((\"abc\", \"bac\"))"
   ]
  },
  {
   "cell_type": "code",
   "execution_count": 3,
   "metadata": {
    "deletable": false,
    "editable": false,
    "nbgrader": {
     "cell_type": "code",
     "checksum": "6bf76b10878810a731e42bb6d3b7feb3",
     "grade": true,
     "grade_id": "cell-231f78d971a5d48b",
     "locked": true,
     "points": 2,
     "schema_version": 3,
     "solution": false,
     "task": false
    }
   },
   "outputs": [],
   "source": [
    "assert are_anagrams(\"\", \"\") is True\n",
    "assert are_anagrams(\"abc\", \"bac\") is True\n",
    "assert are_anagrams(\"aabb\", \"abab\") is True\n",
    "assert are_anagrams(\"abab\", \"aaab\") is False"
   ]
  },
  {
   "cell_type": "markdown",
   "metadata": {
    "deletable": false,
    "editable": false,
    "nbgrader": {
     "cell_type": "markdown",
     "checksum": "f2a8d18e481ff61915c28c7343c1dab3",
     "grade": false,
     "grade_id": "cell-c7ab3adcb5a39bac",
     "locked": true,
     "schema_version": 3,
     "solution": false,
     "task": false
    }
   },
   "source": [
    "## 2.4 (2p) Define a function that takes a string and returns its bigram frequencies as a dictionary.\n",
    "\n",
    "Character bigrams are pairs of subsequent characters. For example word apple contains the following bigrams: ap, pp, pl, le.\n",
    "\n",
    "Do not use the `collections` module."
   ]
  },
  {
   "cell_type": "code",
   "execution_count": 8,
   "metadata": {
    "deletable": false,
    "nbgrader": {
     "cell_type": "code",
     "checksum": "cb4f46142309d3a4026db197d82c46db",
     "grade": false,
     "grade_id": "cell-2669edc3d29b28b6",
     "locked": false,
     "schema_version": 3,
     "solution": true,
     "task": false
    }
   },
   "outputs": [],
   "source": [
    "def get_char_bigrams(string):\n",
    "    bigram_dict = {}\n",
    "    for i in range(len(string) -1):\n",
    "        bigram = string[i] + string[i+1]\n",
    "        if bigram in bigram_dict:\n",
    "            bigram_dict[bigram] += 1\n",
    "        else:\n",
    "            bigram_dict[bigram] = 1\n",
    "\n",
    "    return bigram_dict"
   ]
  },
  {
   "cell_type": "code",
   "execution_count": 9,
   "metadata": {
    "deletable": false,
    "editable": false,
    "nbgrader": {
     "cell_type": "code",
     "checksum": "7e547fa81e2763807d969ae959242333",
     "grade": true,
     "grade_id": "cell-5a3764a1d0909393",
     "locked": true,
     "points": 2,
     "schema_version": 3,
     "solution": false,
     "task": false
    }
   },
   "outputs": [],
   "source": [
    "assert get_char_bigrams(\"apple\") == {\"ap\": 1, \"pp\": 1, \"pl\": 1, \"le\": 1}\n",
    "assert get_char_bigrams(\"apple apple\") == {\n",
    "    \"ap\": 2,\n",
    "    \"pp\": 2,\n",
    "    \"pl\": 2,\n",
    "    \"le\": 2,\n",
    "    \"e \": 1,\n",
    "    \" a\": 1,\n",
    "}"
   ]
  },
  {
   "cell_type": "code",
   "execution_count": 16,
   "metadata": {},
   "outputs": [
    {
     "name": "stdout",
     "output_type": "stream",
     "text": [
      "defaultdict(<class 'int'>, {'ap': 2, 'pp': 2, 'pl': 2, 'le': 2, 'e ': 1, ' a': 1})\n"
     ]
    }
   ],
   "source": [
    "# collections module\n",
    "import collections\n",
    "\n",
    "def bigram_freq(string):\n",
    "    bigrams = collections.defaultdict(int)\n",
    "    for i in range(len(string)-1):\n",
    "        bigrams[string[i:i+2]] += 1\n",
    "    return bigrams\n",
    "\n",
    "print(bigram_freq(\"apple apple\"))\n"
   ]
  },
  {
   "cell_type": "code",
   "execution_count": null,
   "metadata": {},
   "outputs": [],
   "source": [
    "# a function that takes a string and returns its n-gram frequencies as a dictionary\n",
    "\n",
    "\n",
    "def n_grams(string, n):\n",
    "    n_grams = {}\n",
    "    for i in range(len(string) - n + 1):\n",
    "        n_gram = string[i:i+n]\n",
    "        if n_gram in n_grams:\n",
    "            n_grams[n_gram] += 1\n",
    "        else:\n",
    "            n_grams[n_gram] = 1\n",
    "    return n_grams"
   ]
  },
  {
   "cell_type": "markdown",
   "metadata": {
    "deletable": false,
    "editable": false,
    "nbgrader": {
     "cell_type": "markdown",
     "checksum": "b7a0504ee16c0ac64f74aeae3018869b",
     "grade": false,
     "grade_id": "cell-843a6eedcc531992",
     "locked": true,
     "schema_version": 3,
     "solution": false,
     "task": false
    }
   },
   "source": [
    "# Wikipedia module\n",
    "\n",
    "The following exercises use the `wikipedia` package. The basic usage is illustrated below.\n",
    "\n",
    "The documentation is available [here](https://pypi.python.org/pypi/wikipedia/).\n",
    "\n",
    "Searching for pages:"
   ]
  },
  {
   "cell_type": "code",
   "execution_count": 21,
   "metadata": {},
   "outputs": [
    {
     "data": {
      "text/plain": [
       "['Vienna',\n",
       " 'Battle of Vienna',\n",
       " 'Vienna Teng',\n",
       " 'Vienna Award',\n",
       " 'Vienna Convention',\n",
       " 'Vienna sausage',\n",
       " 'Archbishop of Vienna',\n",
       " 'Congress of Vienna',\n",
       " 'University of Vienna',\n",
       " 'Vienna Game']"
      ]
     },
     "execution_count": 21,
     "metadata": {},
     "output_type": "execute_result"
    }
   ],
   "source": [
    "import wikipedia\n",
    "\n",
    "results = wikipedia.search(\"Vienna\")\n",
    "results"
   ]
  },
  {
   "cell_type": "markdown",
   "metadata": {
    "deletable": false,
    "editable": false,
    "nbgrader": {
     "cell_type": "markdown",
     "checksum": "42e7bc1a469601ae635fe2d7d8f428ac",
     "grade": false,
     "grade_id": "cell-78e29f2660bc6fbf",
     "locked": true,
     "schema_version": 3,
     "solution": false,
     "task": false
    }
   },
   "source": [
    "Downloading an article:"
   ]
  },
  {
   "cell_type": "code",
   "execution_count": 30,
   "metadata": {},
   "outputs": [
    {
     "data": {
      "text/plain": [
       "'Nairobi ( ny-ROH-bee) is the capital and largest city of Kenya. The name is derived from the Maasai phrase Enkare Nairobi, which translates to \"place of cool waters\", a reference to the Nairobi River which flows through the city. The city proper had a population of 4,397,073 in the 2019 census, whil'"
      ]
     },
     "execution_count": 30,
     "metadata": {},
     "output_type": "execute_result"
    }
   ],
   "source": [
    "article = wikipedia.page(\"Nairobi\")\n",
    "\n",
    "article.summary[:300]"
   ]
  },
  {
   "cell_type": "markdown",
   "metadata": {
    "deletable": false,
    "editable": false,
    "nbgrader": {
     "cell_type": "markdown",
     "checksum": "3b7cd156e6f361932e5cd2eafd0f3888",
     "grade": false,
     "grade_id": "cell-dc32405bbfb31d99",
     "locked": true,
     "schema_version": 3,
     "solution": false,
     "task": false
    }
   },
   "source": [
    "The content attribute contains the full text:"
   ]
  },
  {
   "cell_type": "code",
   "execution_count": 31,
   "metadata": {},
   "outputs": [
    {
     "data": {
      "text/plain": [
       "(str, 57105)"
      ]
     },
     "execution_count": 31,
     "metadata": {},
     "output_type": "execute_result"
    }
   ],
   "source": [
    "type(article.content), len(article.content)"
   ]
  },
  {
   "cell_type": "markdown",
   "metadata": {
    "deletable": false,
    "editable": false,
    "nbgrader": {
     "cell_type": "markdown",
     "checksum": "0c48587c5a71b46669047f43917b37f0",
     "grade": false,
     "grade_id": "cell-ebc4708eb9ec8edb",
     "locked": true,
     "schema_version": 3,
     "solution": false,
     "task": false
    }
   },
   "source": [
    "By default the module downloads the English Wikipedia. The language can be changed the following way:"
   ]
  },
  {
   "cell_type": "code",
   "execution_count": 32,
   "metadata": {},
   "outputs": [],
   "source": [
    "wikipedia.set_lang(\"de\")"
   ]
  },
  {
   "cell_type": "code",
   "execution_count": 33,
   "metadata": {},
   "outputs": [
    {
     "data": {
      "text/plain": [
       "['Budapest',\n",
       " 'Budapester Memorandum',\n",
       " 'Grand Budapest Hotel',\n",
       " 'Budapester',\n",
       " 'Schlacht um Budapest',\n",
       " 'Budapester Vertrag',\n",
       " 'Parlamentsgebäude (Budapest)',\n",
       " 'Budapest (Begriffsklärung)',\n",
       " 'Kettenbrücke (Budapest)',\n",
       " 'Ungarn']"
      ]
     },
     "execution_count": 33,
     "metadata": {},
     "output_type": "execute_result"
    }
   ],
   "source": [
    "wikipedia.search(\"Budapest\")"
   ]
  },
  {
   "cell_type": "code",
   "execution_count": 35,
   "metadata": {},
   "outputs": [
    {
     "data": {
      "text/plain": [
       "\"Budapest (ungarische Aussprache ['budɒpɛʃt]; ) ist die Hauptstadt und zugleich größte Stadt Ungarns. Mit über 1,7 Millionen Einwohnern ist Budapest die neuntgrößte Stadt der Europäischen Union. Laut d\""
      ]
     },
     "execution_count": 35,
     "metadata": {},
     "output_type": "execute_result"
    }
   ],
   "source": [
    "de_article = wikipedia.page(\"Budapest\")\n",
    "de_article.summary[:200]"
   ]
  },
  {
   "cell_type": "code",
   "execution_count": null,
   "metadata": {},
   "outputs": [],
   "source": [
    "wikipedia.set_lang(\"en\")"
   ]
  },
  {
   "cell_type": "markdown",
   "metadata": {
    "deletable": false,
    "editable": false,
    "nbgrader": {
     "cell_type": "markdown",
     "checksum": "fa92e56d609af0b5c7559b090612bbc8",
     "grade": false,
     "grade_id": "cell-95be16d5cc290d23",
     "locked": true,
     "schema_version": 3,
     "solution": false,
     "task": false
    }
   },
   "source": [
    "## 3.1 (5p) Build a small Wikipedia corpus by downloading pages until their character count exceeds 100000. The corpus should be a list of strings.\n",
    "\n",
    "You can download arbitrary pages but some pages redirect to disambiguation pages. You should not pick these. Make sure the same page is not included multiple times."
   ]
  },
  {
   "cell_type": "code",
   "execution_count": null,
   "metadata": {
    "deletable": false,
    "nbgrader": {
     "cell_type": "code",
     "checksum": "04c921ddca419c1b935dfad982d37f2b",
     "grade": false,
     "grade_id": "cell-2e7be91b99158dca",
     "locked": false,
     "schema_version": 3,
     "solution": true,
     "task": false
    }
   },
   "outputs": [],
   "source": [
    "# YOUR CODE HERE\n",
    "raise NotImplementedError()"
   ]
  },
  {
   "cell_type": "code",
   "execution_count": 1,
   "metadata": {},
   "outputs": [],
   "source": [
    "def build_wikipedia_corpus(start_url, max_char=100000, min_char=10000):\n",
    "    \"\"\"\n",
    "    Build a corpus of Wikipedia pages.\n",
    "    \n",
    "    Parameters\n",
    "    ----------\n",
    "    start_url : str\n",
    "        The URL of the first Wikipedia page to download.\n",
    "    max_char : int\n",
    "        The maximum number of characters to download.\n",
    "    min_char : int\n",
    "        The minimum number of characters to download.\n",
    "    \n",
    "    Returns\n",
    "    -------\n",
    "    corpus : list of str\n",
    "        The corpus of Wikipedia pages.\n",
    "    \"\"\"\n",
    "    corpus = []\n",
    "    url = start_url\n",
    "    while True:\n",
    "        page = download_page(url)\n",
    "        corpus.append(page)\n",
    "        if len(page) > max_char:\n",
    "            break\n",
    "        if len(page) < min_char:\n",
    "            break\n",
    "        url = find_next_link(page)\n",
    "        if not url:\n",
    "            break\n",
    "    return corpus\n"
   ]
  },
  {
   "cell_type": "code",
   "execution_count": 5,
   "metadata": {},
   "outputs": [
    {
     "data": {
      "text/plain": [
       "\"import requests\\nfrom bs4 import BeautifulSoup\\nimport re\\n\\ndef get_page(url):\\n    response = requests.get(url)\\n    soup = BeautifulSoup(response.text, 'html.parser')\\n    return soup\\n\\ndef get_links(url):\\n    soup = get_page(url)\\n    links = soup.find_all('a', href=re.compile('^/wiki/'))\\n    return links\\n\\ndef get_content(url):\\n    soup = get_page(url)\\n    content = soup.find('div', id='mw-content-text')\\n    return content\\n\\ndef get_corpus(url, corpus_size):\\n    corpus = []\\n    links = get_links(url)\\n    for link in links:\\n        if len(corpus) < corpus_size:\\n            if link.get('href') not in corpus:\\n                corpus.append(link.get('href'))\\n                print(link.get('href'))\\n        else:\\n            break\\n    return corpus\\n\\ndef get_corpus_content(corpus):\\n    corpus_content = []\\n    for page in corpus:\\n        content = get_content(page)\\n        corpus_content.append(content)\\n    return corpus_content\\n\\ndef main():\\n    url = 'https://en.wikipedia.org/wiki/Special:Random'\\n    corpus_size = 100000\\n    corpus = get_corpus(url, corpus_size)\\n    corpus_content = get_corpus_content(corpus)\\n    print(corpus_content)\\n\\nif __name__ == '__main__':\\n    main() \""
      ]
     },
     "execution_count": 5,
     "metadata": {},
     "output_type": "execute_result"
    }
   ],
   "source": [
    "\n",
    "\"\"\"import requests\n",
    "from bs4 import BeautifulSoup\n",
    "import re\n",
    "\n",
    "def get_page(url):\n",
    "    response = requests.get(url)\n",
    "    soup = BeautifulSoup(response.text, 'html.parser')\n",
    "    return soup\n",
    "\n",
    "def get_links(url):\n",
    "    soup = get_page(url)\n",
    "    links = soup.find_all('a', href=re.compile('^/wiki/'))\n",
    "    return links\n",
    "\n",
    "def get_content(url):\n",
    "    soup = get_page(url)\n",
    "    content = soup.find('div', id='mw-content-text')\n",
    "    return content\n",
    "\n",
    "def get_corpus(url, corpus_size):\n",
    "    corpus = []\n",
    "    links = get_links(url)\n",
    "    for link in links:\n",
    "        if len(corpus) < corpus_size:\n",
    "            if link.get('href') not in corpus:\n",
    "                corpus.append(link.get('href'))\n",
    "                print(link.get('href'))\n",
    "        else:\n",
    "            break\n",
    "    return corpus\n",
    "\n",
    "def get_corpus_content(corpus):\n",
    "    corpus_content = []\n",
    "    for page in corpus:\n",
    "        content = get_content(page)\n",
    "        corpus_content.append(content)\n",
    "    return corpus_content\n",
    "\n",
    "def main():\n",
    "    url = 'https://en.wikipedia.org/wiki/Special:Random'\n",
    "    corpus_size = 100000\n",
    "    corpus = get_corpus(url, corpus_size)\n",
    "    corpus_content = get_corpus_content(corpus)\n",
    "    print(corpus_content)\n",
    "\n",
    "if __name__ == '__main__':\n",
    "    main() \"\"\""
   ]
  },
  {
   "cell_type": "code",
   "execution_count": 6,
   "metadata": {
    "deletable": false,
    "editable": false,
    "nbgrader": {
     "cell_type": "code",
     "checksum": "735a8d5d5b34d9882142362f49a58b48",
     "grade": true,
     "grade_id": "cell-f26aa917928c62c8",
     "locked": true,
     "points": 5,
     "schema_version": 3,
     "solution": false,
     "task": false
    }
   },
   "outputs": [
    {
     "data": {
      "text/plain": [
       "'corpus = build_wikipedia_corpus()\\n# check types\\nassert isinstance(corpus, list)\\nassert isinstance(corpus[0], str)\\n\\n# check character count\\nsum_length = 0\\nfor document in corpus:\\n    sum_length += len(document)\\nassert sum_length >= 100000\\n\\n# no duplicate pages\\nassert len(set(corpus)) == len(corpus)'"
      ]
     },
     "execution_count": 6,
     "metadata": {},
     "output_type": "execute_result"
    }
   ],
   "source": [
    "\"\"\"corpus = build_wikipedia_corpus()\n",
    "# check types\n",
    "assert isinstance(corpus, list)\n",
    "assert isinstance(corpus[0], str)\n",
    "\n",
    "# check character count\n",
    "sum_length = 0\n",
    "for document in corpus:\n",
    "    sum_length += len(document)\n",
    "assert sum_length >= 100000\n",
    "\n",
    "# no duplicate pages\n",
    "assert len(set(corpus)) == len(corpus)\"\"\""
   ]
  },
  {
   "cell_type": "markdown",
   "metadata": {
    "deletable": false,
    "editable": false,
    "nbgrader": {
     "cell_type": "markdown",
     "checksum": "1dbe701f50c44dbb49e4f54848b15c39",
     "grade": false,
     "grade_id": "cell-c560b4af51f932f1",
     "locked": true,
     "schema_version": 3,
     "solution": false,
     "task": false
    }
   },
   "source": [
    "## 3.2 (2p) Add a `min_char` parameter to `build_wikipedia_corpus` that defaults to 10000. You should stop building the corpus when this number is reached."
   ]
  },
  {
   "cell_type": "code",
   "execution_count": null,
   "metadata": {
    "deletable": false,
    "nbgrader": {
     "cell_type": "code",
     "checksum": "84ae0263b8784b0d38ac61698af0f108",
     "grade": false,
     "grade_id": "cell-bf7ffeba0644e753",
     "locked": false,
     "schema_version": 3,
     "solution": true,
     "task": false
    }
   },
   "outputs": [],
   "source": [
    "# YOUR CODE HERE\n",
    "raise NotImplementedError()"
   ]
  },
  {
   "cell_type": "code",
   "execution_count": 9,
   "metadata": {},
   "outputs": [
    {
     "ename": "AttributeError",
     "evalue": "'NoneType' object has no attribute 'group'",
     "output_type": "error",
     "traceback": [
      "\u001b[0;31m---------------------------------------------------------------------------\u001b[0m",
      "\u001b[0;31mAttributeError\u001b[0m                            Traceback (most recent call last)",
      "Cell \u001b[0;32mIn[9], line 19\u001b[0m\n\u001b[1;32m     16\u001b[0m         url \u001b[39m=\u001b[39m re\u001b[39m.\u001b[39msearch(\u001b[39mr\u001b[39m\u001b[39m'\u001b[39m\u001b[39m<link rel=\u001b[39m\u001b[39m\"\u001b[39m\u001b[39mnext\u001b[39m\u001b[39m\"\u001b[39m\u001b[39m href=\u001b[39m\u001b[39m\"\u001b[39m\u001b[39m(.*?)\u001b[39m\u001b[39m\"\u001b[39m\u001b[39m />\u001b[39m\u001b[39m'\u001b[39m, text)\u001b[39m.\u001b[39mgroup(\u001b[39m1\u001b[39m)\n\u001b[1;32m     17\u001b[0m     \u001b[39mreturn\u001b[39;00m corpus\n\u001b[0;32m---> 19\u001b[0m corpus \u001b[39m=\u001b[39m build_wikipedia_corpus(\u001b[39m'\u001b[39;49m\u001b[39mhttps://en.wikipedia.org/wiki/Special:Random\u001b[39;49m\u001b[39m'\u001b[39;49m)\n\u001b[1;32m     20\u001b[0m \u001b[39mprint\u001b[39m(\u001b[39mlen\u001b[39m(corpus))\n\u001b[1;32m     21\u001b[0m \u001b[39mprint\u001b[39m(corpus[\u001b[39m0\u001b[39m][:\u001b[39m100\u001b[39m])\n",
      "Cell \u001b[0;32mIn[9], line 16\u001b[0m, in \u001b[0;36mbuild_wikipedia_corpus\u001b[0;34m(seed_url, min_char)\u001b[0m\n\u001b[1;32m     14\u001b[0m         \u001b[39mbreak\u001b[39;00m\n\u001b[1;32m     15\u001b[0m     corpus\u001b[39m.\u001b[39mappend(text)\n\u001b[0;32m---> 16\u001b[0m     url \u001b[39m=\u001b[39m re\u001b[39m.\u001b[39;49msearch(\u001b[39mr\u001b[39;49m\u001b[39m'\u001b[39;49m\u001b[39m<link rel=\u001b[39;49m\u001b[39m\"\u001b[39;49m\u001b[39mnext\u001b[39;49m\u001b[39m\"\u001b[39;49m\u001b[39m href=\u001b[39;49m\u001b[39m\"\u001b[39;49m\u001b[39m(.*?)\u001b[39;49m\u001b[39m\"\u001b[39;49m\u001b[39m />\u001b[39;49m\u001b[39m'\u001b[39;49m, text)\u001b[39m.\u001b[39;49mgroup(\u001b[39m1\u001b[39m)\n\u001b[1;32m     17\u001b[0m \u001b[39mreturn\u001b[39;00m corpus\n",
      "\u001b[0;31mAttributeError\u001b[0m: 'NoneType' object has no attribute 'group'"
     ]
    }
   ],
   "source": [
    "import requests\n",
    "import re\n",
    "\n",
    "def build_wikipedia_corpus(seed_url, min_char=10000):\n",
    "    corpus = []\n",
    "    url = seed_url\n",
    "    while True:\n",
    "        page = requests.get(url)\n",
    "        if page.status_code != 200:\n",
    "            print('Error:', page.status_code)\n",
    "            break\n",
    "        text = page.text\n",
    "        if len(text) < min_char:\n",
    "            break\n",
    "        corpus.append(text)\n",
    "        url = re.search(r'<link rel=\"next\" href=\"(.*?)\" />', text).group(1)\n",
    "    return corpus\n",
    "\n",
    "corpus = build_wikipedia_corpus('https://en.wikipedia.org/wiki/Special:Random')\n",
    "print(len(corpus))\n",
    "print(corpus[0][:100])\n",
    "print(corpus[-1][:100])"
   ]
  },
  {
   "cell_type": "code",
   "execution_count": 10,
   "metadata": {
    "deletable": false,
    "editable": false,
    "nbgrader": {
     "cell_type": "code",
     "checksum": "319fc9a7638a850cbbb721ce34b3f613",
     "grade": true,
     "grade_id": "cell-68c3de00731699f8",
     "locked": true,
     "points": 2,
     "schema_version": 3,
     "solution": false,
     "task": false
    }
   },
   "outputs": [
    {
     "ename": "MissingSchema",
     "evalue": "Invalid URL '1000': No scheme supplied. Perhaps you meant https://1000?",
     "output_type": "error",
     "traceback": [
      "\u001b[0;31m---------------------------------------------------------------------------\u001b[0m",
      "\u001b[0;31mMissingSchema\u001b[0m                             Traceback (most recent call last)",
      "Cell \u001b[0;32mIn[10], line 1\u001b[0m\n\u001b[0;32m----> 1\u001b[0m corpus \u001b[39m=\u001b[39m build_wikipedia_corpus(\u001b[39m1000\u001b[39;49m)\n\u001b[1;32m      2\u001b[0m \u001b[39m# check types\u001b[39;00m\n\u001b[1;32m      3\u001b[0m \u001b[39massert\u001b[39;00m \u001b[39misinstance\u001b[39m(corpus, \u001b[39mlist\u001b[39m)\n",
      "Cell \u001b[0;32mIn[9], line 8\u001b[0m, in \u001b[0;36mbuild_wikipedia_corpus\u001b[0;34m(seed_url, min_char)\u001b[0m\n\u001b[1;32m      6\u001b[0m url \u001b[39m=\u001b[39m seed_url\n\u001b[1;32m      7\u001b[0m \u001b[39mwhile\u001b[39;00m \u001b[39mTrue\u001b[39;00m:\n\u001b[0;32m----> 8\u001b[0m     page \u001b[39m=\u001b[39m requests\u001b[39m.\u001b[39;49mget(url)\n\u001b[1;32m      9\u001b[0m     \u001b[39mif\u001b[39;00m page\u001b[39m.\u001b[39mstatus_code \u001b[39m!=\u001b[39m \u001b[39m200\u001b[39m:\n\u001b[1;32m     10\u001b[0m         \u001b[39mprint\u001b[39m(\u001b[39m'\u001b[39m\u001b[39mError:\u001b[39m\u001b[39m'\u001b[39m, page\u001b[39m.\u001b[39mstatus_code)\n",
      "File \u001b[0;32m~/.local/lib/python3.10/site-packages/requests/api.py:73\u001b[0m, in \u001b[0;36mget\u001b[0;34m(url, params, **kwargs)\u001b[0m\n\u001b[1;32m     62\u001b[0m \u001b[39mdef\u001b[39;00m \u001b[39mget\u001b[39m(url, params\u001b[39m=\u001b[39m\u001b[39mNone\u001b[39;00m, \u001b[39m*\u001b[39m\u001b[39m*\u001b[39mkwargs):\n\u001b[1;32m     63\u001b[0m \u001b[39m    \u001b[39m\u001b[39mr\u001b[39m\u001b[39m\"\"\"Sends a GET request.\u001b[39;00m\n\u001b[1;32m     64\u001b[0m \n\u001b[1;32m     65\u001b[0m \u001b[39m    :param url: URL for the new :class:`Request` object.\u001b[39;00m\n\u001b[0;32m   (...)\u001b[0m\n\u001b[1;32m     70\u001b[0m \u001b[39m    :rtype: requests.Response\u001b[39;00m\n\u001b[1;32m     71\u001b[0m \u001b[39m    \"\"\"\u001b[39;00m\n\u001b[0;32m---> 73\u001b[0m     \u001b[39mreturn\u001b[39;00m request(\u001b[39m\"\u001b[39;49m\u001b[39mget\u001b[39;49m\u001b[39m\"\u001b[39;49m, url, params\u001b[39m=\u001b[39;49mparams, \u001b[39m*\u001b[39;49m\u001b[39m*\u001b[39;49mkwargs)\n",
      "File \u001b[0;32m~/.local/lib/python3.10/site-packages/requests/api.py:59\u001b[0m, in \u001b[0;36mrequest\u001b[0;34m(method, url, **kwargs)\u001b[0m\n\u001b[1;32m     55\u001b[0m \u001b[39m# By using the 'with' statement we are sure the session is closed, thus we\u001b[39;00m\n\u001b[1;32m     56\u001b[0m \u001b[39m# avoid leaving sockets open which can trigger a ResourceWarning in some\u001b[39;00m\n\u001b[1;32m     57\u001b[0m \u001b[39m# cases, and look like a memory leak in others.\u001b[39;00m\n\u001b[1;32m     58\u001b[0m \u001b[39mwith\u001b[39;00m sessions\u001b[39m.\u001b[39mSession() \u001b[39mas\u001b[39;00m session:\n\u001b[0;32m---> 59\u001b[0m     \u001b[39mreturn\u001b[39;00m session\u001b[39m.\u001b[39;49mrequest(method\u001b[39m=\u001b[39;49mmethod, url\u001b[39m=\u001b[39;49murl, \u001b[39m*\u001b[39;49m\u001b[39m*\u001b[39;49mkwargs)\n",
      "File \u001b[0;32m~/.local/lib/python3.10/site-packages/requests/sessions.py:573\u001b[0m, in \u001b[0;36mSession.request\u001b[0;34m(self, method, url, params, data, headers, cookies, files, auth, timeout, allow_redirects, proxies, hooks, stream, verify, cert, json)\u001b[0m\n\u001b[1;32m    560\u001b[0m \u001b[39m# Create the Request.\u001b[39;00m\n\u001b[1;32m    561\u001b[0m req \u001b[39m=\u001b[39m Request(\n\u001b[1;32m    562\u001b[0m     method\u001b[39m=\u001b[39mmethod\u001b[39m.\u001b[39mupper(),\n\u001b[1;32m    563\u001b[0m     url\u001b[39m=\u001b[39murl,\n\u001b[0;32m   (...)\u001b[0m\n\u001b[1;32m    571\u001b[0m     hooks\u001b[39m=\u001b[39mhooks,\n\u001b[1;32m    572\u001b[0m )\n\u001b[0;32m--> 573\u001b[0m prep \u001b[39m=\u001b[39m \u001b[39mself\u001b[39;49m\u001b[39m.\u001b[39;49mprepare_request(req)\n\u001b[1;32m    575\u001b[0m proxies \u001b[39m=\u001b[39m proxies \u001b[39mor\u001b[39;00m {}\n\u001b[1;32m    577\u001b[0m settings \u001b[39m=\u001b[39m \u001b[39mself\u001b[39m\u001b[39m.\u001b[39mmerge_environment_settings(\n\u001b[1;32m    578\u001b[0m     prep\u001b[39m.\u001b[39murl, proxies, stream, verify, cert\n\u001b[1;32m    579\u001b[0m )\n",
      "File \u001b[0;32m~/.local/lib/python3.10/site-packages/requests/sessions.py:484\u001b[0m, in \u001b[0;36mSession.prepare_request\u001b[0;34m(self, request)\u001b[0m\n\u001b[1;32m    481\u001b[0m     auth \u001b[39m=\u001b[39m get_netrc_auth(request\u001b[39m.\u001b[39murl)\n\u001b[1;32m    483\u001b[0m p \u001b[39m=\u001b[39m PreparedRequest()\n\u001b[0;32m--> 484\u001b[0m p\u001b[39m.\u001b[39;49mprepare(\n\u001b[1;32m    485\u001b[0m     method\u001b[39m=\u001b[39;49mrequest\u001b[39m.\u001b[39;49mmethod\u001b[39m.\u001b[39;49mupper(),\n\u001b[1;32m    486\u001b[0m     url\u001b[39m=\u001b[39;49mrequest\u001b[39m.\u001b[39;49murl,\n\u001b[1;32m    487\u001b[0m     files\u001b[39m=\u001b[39;49mrequest\u001b[39m.\u001b[39;49mfiles,\n\u001b[1;32m    488\u001b[0m     data\u001b[39m=\u001b[39;49mrequest\u001b[39m.\u001b[39;49mdata,\n\u001b[1;32m    489\u001b[0m     json\u001b[39m=\u001b[39;49mrequest\u001b[39m.\u001b[39;49mjson,\n\u001b[1;32m    490\u001b[0m     headers\u001b[39m=\u001b[39;49mmerge_setting(\n\u001b[1;32m    491\u001b[0m         request\u001b[39m.\u001b[39;49mheaders, \u001b[39mself\u001b[39;49m\u001b[39m.\u001b[39;49mheaders, dict_class\u001b[39m=\u001b[39;49mCaseInsensitiveDict\n\u001b[1;32m    492\u001b[0m     ),\n\u001b[1;32m    493\u001b[0m     params\u001b[39m=\u001b[39;49mmerge_setting(request\u001b[39m.\u001b[39;49mparams, \u001b[39mself\u001b[39;49m\u001b[39m.\u001b[39;49mparams),\n\u001b[1;32m    494\u001b[0m     auth\u001b[39m=\u001b[39;49mmerge_setting(auth, \u001b[39mself\u001b[39;49m\u001b[39m.\u001b[39;49mauth),\n\u001b[1;32m    495\u001b[0m     cookies\u001b[39m=\u001b[39;49mmerged_cookies,\n\u001b[1;32m    496\u001b[0m     hooks\u001b[39m=\u001b[39;49mmerge_hooks(request\u001b[39m.\u001b[39;49mhooks, \u001b[39mself\u001b[39;49m\u001b[39m.\u001b[39;49mhooks),\n\u001b[1;32m    497\u001b[0m )\n\u001b[1;32m    498\u001b[0m \u001b[39mreturn\u001b[39;00m p\n",
      "File \u001b[0;32m~/.local/lib/python3.10/site-packages/requests/models.py:368\u001b[0m, in \u001b[0;36mPreparedRequest.prepare\u001b[0;34m(self, method, url, headers, files, data, params, auth, cookies, hooks, json)\u001b[0m\n\u001b[1;32m    365\u001b[0m \u001b[39m\u001b[39m\u001b[39m\"\"\"Prepares the entire request with the given parameters.\"\"\"\u001b[39;00m\n\u001b[1;32m    367\u001b[0m \u001b[39mself\u001b[39m\u001b[39m.\u001b[39mprepare_method(method)\n\u001b[0;32m--> 368\u001b[0m \u001b[39mself\u001b[39;49m\u001b[39m.\u001b[39;49mprepare_url(url, params)\n\u001b[1;32m    369\u001b[0m \u001b[39mself\u001b[39m\u001b[39m.\u001b[39mprepare_headers(headers)\n\u001b[1;32m    370\u001b[0m \u001b[39mself\u001b[39m\u001b[39m.\u001b[39mprepare_cookies(cookies)\n",
      "File \u001b[0;32m~/.local/lib/python3.10/site-packages/requests/models.py:439\u001b[0m, in \u001b[0;36mPreparedRequest.prepare_url\u001b[0;34m(self, url, params)\u001b[0m\n\u001b[1;32m    436\u001b[0m     \u001b[39mraise\u001b[39;00m InvalidURL(\u001b[39m*\u001b[39me\u001b[39m.\u001b[39margs)\n\u001b[1;32m    438\u001b[0m \u001b[39mif\u001b[39;00m \u001b[39mnot\u001b[39;00m scheme:\n\u001b[0;32m--> 439\u001b[0m     \u001b[39mraise\u001b[39;00m MissingSchema(\n\u001b[1;32m    440\u001b[0m         \u001b[39mf\u001b[39m\u001b[39m\"\u001b[39m\u001b[39mInvalid URL \u001b[39m\u001b[39m{\u001b[39;00murl\u001b[39m!r}\u001b[39;00m\u001b[39m: No scheme supplied. \u001b[39m\u001b[39m\"\u001b[39m\n\u001b[1;32m    441\u001b[0m         \u001b[39mf\u001b[39m\u001b[39m\"\u001b[39m\u001b[39mPerhaps you meant https://\u001b[39m\u001b[39m{\u001b[39;00murl\u001b[39m}\u001b[39;00m\u001b[39m?\u001b[39m\u001b[39m\"\u001b[39m\n\u001b[1;32m    442\u001b[0m     )\n\u001b[1;32m    444\u001b[0m \u001b[39mif\u001b[39;00m \u001b[39mnot\u001b[39;00m host:\n\u001b[1;32m    445\u001b[0m     \u001b[39mraise\u001b[39;00m InvalidURL(\u001b[39mf\u001b[39m\u001b[39m\"\u001b[39m\u001b[39mInvalid URL \u001b[39m\u001b[39m{\u001b[39;00murl\u001b[39m!r}\u001b[39;00m\u001b[39m: No host supplied\u001b[39m\u001b[39m\"\u001b[39m)\n",
      "\u001b[0;31mMissingSchema\u001b[0m: Invalid URL '1000': No scheme supplied. Perhaps you meant https://1000?"
     ]
    },
    {
     "name": "stderr",
     "output_type": "stream",
     "text": [
      "Bad pipe message: %s [b'D\\x98\\xe8\\x87\\x0e\\xe3\\x1b\\x8ep,-\\x9e0\\xee\\xbe9\\xa0\\r \\xea\\xcak\\x1dDb6>\\xd5*O\\xe5y\\xe9\\\\\\xb7\\xe9\\xf2\\x0ejm\\xff\\xa2\\xa5In\\xd4\\xd5\\x03\\x17Tx\\x00\\x08\\x13\\x02\\x13\\x03\\x13\\x01\\x00\\xff\\x01\\x00\\x00\\x8f\\x00\\x00\\x00\\x0e\\x00\\x0c\\x00\\x00\\t127.0.0.1\\x00\\x0b\\x00\\x04\\x03\\x00\\x01\\x02\\x00\\n\\x00\\x0c\\x00\\n\\x00\\x1d\\x00\\x17\\x00\\x1e\\x00\\x19\\x00\\x18\\x00#\\x00\\x00\\x00\\x16\\x00\\x00\\x00\\x17\\x00\\x00\\x00\\r\\x00\\x1e\\x00\\x1c\\x04\\x03\\x05\\x03\\x06\\x03\\x08\\x07\\x08\\x08\\x08\\t']\n",
      "Bad pipe message: %s [b'\\x08\\x0b\\x08\\x04\\x08\\x05\\x08']\n",
      "Bad pipe message: %s [b'\\x01\\x05\\x01\\x06\\x01']\n",
      "Bad pipe message: %s [b'{\\xd9\\xa5\\x12\\xf9\\xb6\\xde\\xaa\\x16\\xf4j8\\x8d\\xbd\\xcd`K: q\\xed\\xd3{\\xde\\xa7W\\xbb7 \\xb2\\xcc.\\xab\\xda\\xe5]\\x17R\\xdc\\x9e\\xe3\\xa2*f\\xdaI\\x1cO\\x04\\x8aK\\x00\\x08\\x13\\x02\\x13\\x03\\x13\\x01\\x00\\xff\\x01\\x00\\x00\\x8f\\x00\\x00\\x00\\x0e\\x00\\x0c\\x00\\x00\\t127.0.0.1\\x00\\x0b\\x00\\x04\\x03\\x00\\x01\\x02\\x00\\n\\x00\\x0c\\x00\\n\\x00\\x1d\\x00\\x17\\x00\\x1e\\x00\\x19\\x00\\x18\\x00#\\x00\\x00\\x00\\x16\\x00\\x00\\x00\\x17\\x00\\x00\\x00\\r\\x00\\x1e\\x00\\x1c\\x04\\x03\\x05\\x03\\x06\\x03\\x08\\x07\\x08']\n",
      "Bad pipe message: %s [b'\\t\\x08\\n\\x08\\x0b\\x08\\x04']\n",
      "Bad pipe message: %s [b'\\x08\\x06\\x04\\x01\\x05\\x01\\x06', b'']\n",
      "Bad pipe message: %s [b'\\x03\\x02\\x03\\x04\\x00-\\x00\\x02\\x01\\x01\\x003\\x00&\\x00$\\x00\\x1d\\x00 S@3}\\xdf\\x8d\\x9dg\\x18\\xcc\\xec\\xc9\\xbf\\x18\\x17\\x95\\xfb\\x00\\xbaY\\x963']\n",
      "Bad pipe message: %s [b\"O{\\x06\\x19RH\\xd5~3\\xf6\\x9fLic)k\\x9d\\xc7\\x00\\x00|\\xc0,\\xc00\\x00\\xa3\\x00\\x9f\\xcc\\xa9\\xcc\\xa8\\xcc\\xaa\\xc0\\xaf\\xc0\\xad\\xc0\\xa3\\xc0\\x9f\\xc0]\\xc0a\\xc0W\\xc0S\\xc0+\\xc0/\\x00\\xa2\\x00\\x9e\\xc0\\xae\\xc0\\xac\\xc0\\xa2\\xc0\\x9e\\xc0\\\\\\xc0`\\xc0V\\xc0R\\xc0$\\xc0(\\x00k\\x00j\\xc0#\\xc0'\\x00g\\x00@\\xc0\\n\\xc0\\x14\\x009\\x008\\xc0\\t\\xc0\\x13\\x003\\x002\\x00\\x9d\\xc0\\xa1\\xc0\\x9d\\xc0Q\\x00\\x9c\\xc0\\xa0\\xc0\\x9c\\xc0P\\x00=\\x00<\\x005\\x00/\\x00\\x9a\\x00\\x99\\xc0\", b'\\x11\\x00\\x96\\x00\\x05\\x00']\n",
      "Bad pipe message: %s [b'\\x18\\x1e7L\\xf2\\x9d\\xc8\\xa8Jip\\x17rf~\\xbd\\x97\\x89\\x00\\x00>\\xc0\\x14\\xc0\\n\\x00']\n",
      "Bad pipe message: %s [b'8\\x007\\x006\\xc0\\x0f\\xc0\\x05\\x005\\xc0\\x13\\xc0\\t\\x003\\x002\\x001\\x000\\xc0\\x0e\\xc0\\x04\\x00/\\x00\\x9a\\x00\\x99\\x00\\x98\\x00\\x97\\x00\\x96\\x00\\x07\\xc0\\x11\\xc0\\x07\\xc0\\x0c\\xc0\\x02\\x00\\x05\\x00\\x04\\x00\\xff\\x02']\n",
      "Bad pipe message: %s [b'']\n",
      "Bad pipe message: %s [b'\\x83\\xaa&r\\xf8Y\\xc6\\xdc\\xa8\\xbf\\x026j\\x94+aY\\x9d\\x00\\x00\\xa2\\xc0\\x14\\xc0\\n\\x009\\x008\\x007\\x006\\x00\\x88\\x00\\x87\\x00\\x86\\x00\\x85\\xc0\\x19\\x00:\\x00\\x89\\xc0\\x0f\\xc0\\x05\\x005\\x00\\x84\\xc0\\x13\\xc0\\t\\x003\\x002\\x001\\x000\\x00\\x9a\\x00\\x99\\x00\\x98\\x00\\x97\\x00E\\x00D\\x00C\\x00B\\xc0\\x18\\x004\\x00\\x9b\\x00F\\xc0\\x0e\\xc0\\x04\\x00/\\x00\\x96\\x00A\\x00\\x07\\xc0\\x11\\xc0\\x07\\xc0\\x16\\x00\\x18\\xc0\\x0c\\xc0\\x02\\x00\\x05\\x00\\x04\\xc0\\x12\\xc0\\x08\\x00\\x16\\x00\\x13\\x00\\x10\\x00\\r\\xc0\\x17\\x00\\x1b\\xc0\\r\\xc0\\x03\\x00\\n\\x00\\x15\\x00\\x12\\x00\\x0f\\x00\\x0c\\x00\\x1a\\x00\\t\\x00\\x14\\x00\\x11\\x00\\x19\\x00\\x08\\x00\\x06\\x00\\x17\\x00\\x03\\xc0\\x10\\xc0\\x06\\xc0\\x15\\xc0\\x0b\\xc0\\x01\\x00\\x02\\x00\\x01\\x00\\xff\\x02\\x01\\x00\\x00C\\x00\\x00\\x00\\x0e\\x00\\x0c\\x00\\x00\\t127.0.0.1\\x00\\x0b\\x00\\x04\\x03\\x00\\x01\\x02\\x00']\n",
      "Bad pipe message: %s [b'\\x1c\\x00\\x1a\\x00\\x17\\x00\\x19\\x00\\x1c']\n",
      "Bad pipe message: %s [b'\\xe8\\x9f\\x13\\xa9\\xab\\xc6\\x87\\xbfz\\xb1\\x91\\xa0[\\x1e\\xfb\\xe7g\\x9e\\x00\\x00>\\xc0\\x14\\xc0\\n\\x009\\x008\\x007\\x006\\xc0\\x0f\\xc0\\x05\\x005\\xc0\\x13\\xc0\\t\\x003']\n",
      "Bad pipe message: %s [b'\\x1f~\\xed24\\r\\xa2M\\xa6\\xde\\xe0\\xd1\\x85\\xec\\x7f\\x07\\xb1c\\x00\\x00\\xa2\\xc0\\x14\\xc0\\n\\x009']\n",
      "Bad pipe message: %s [b'']\n",
      "Bad pipe message: %s [b'\\x0fQ\\x97%\\xb4\\xf3\\xb6\\x81\\xcftJg\\x03\\xa2\\xb2{\\xd5A\\x00\\x00\\x86\\xc00\\xc0,\\xc0(\\xc0$\\xc0\\x14\\xc0\\n\\x00\\xa5\\x00\\xa3\\x00\\xa1\\x00\\x9f\\x00k\\x00j\\x00i\\x00h\\x009\\x008\\x007']\n",
      "Bad pipe message: %s [b\"\\x9cO:\\xba|\\x1c\\xad\\xe6@\\xacr\\xa9\\x1e\\x81,'p\\xc8\\x00\\x00\\xf4\\xc00\\xc0,\\xc0(\\xc0$\\xc0\\x14\\xc0\\n\\x00\\xa5\\x00\\xa3\\x00\\xa1\\x00\\x9f\\x00k\\x00j\\x00i\\x00h\\x009\\x008\\x007\\x006\\x00\\x88\\x00\\x87\\x00\\x86\\x00\\x85\\xc0\\x19\\x00\\xa7\\x00m\\x00:\\x00\\x89\\xc02\\xc0.\\xc0*\\xc0&\\xc0\"]\n",
      "Bad pipe message: %s [b'\\x05\\x00\\x9d\\x00=\\x005\\x00\\x84\\xc0/\\xc0+\\xc0']\n",
      "Bad pipe message: %s [b'#\\xc0\\x13\\xc0\\t\\x00\\xa4\\x00\\xa2\\x00\\xa0\\x00\\x9e\\x00g\\x00@\\x00?\\x00>\\x003\\x002\\x001\\x000\\x00\\x9a\\x00\\x99\\x00\\x98\\x00\\x97\\x00']\n",
      "Bad pipe message: %s [b'D\\x00C\\x00B\\xc0\\x18\\x00\\xa6\\x00l\\x004\\x00\\x9b\\x00F\\xc01\\xc0-\\xc0)\\xc0%\\xc0\\x0e\\xc0\\x04\\x00\\x9c\\x00<\\x00/\\x00\\x96\\x00A\\x00\\x07\\xc0\\x11\\xc0\\x07\\xc0\\x16\\x00\\x18\\xc0\\x0c\\xc0\\x02\\x00\\x05\\x00\\x04\\xc0\\x12\\xc0\\x08\\x00\\x16\\x00\\x13\\x00\\x10\\x00']\n",
      "Bad pipe message: %s [b'\\x17\\x00\\x1b\\xc0\\r\\xc0\\x03\\x00\\n\\x00\\x15\\x00']\n",
      "Bad pipe message: %s [b'\\x0f\\x00\\x0c\\x00\\x1a\\x00\\t\\x00\\x14\\x00\\x11\\x00\\x19\\x00\\x08\\x00\\x06']\n"
     ]
    }
   ],
   "source": [
    "corpus = build_wikipedia_corpus(1000)\n",
    "# check types\n",
    "assert isinstance(corpus, list)\n",
    "assert isinstance(corpus[0], str)\n",
    "\n",
    "# check character count\n",
    "sum_length = 0\n",
    "for document in corpus:\n",
    "    sum_length += len(document)\n",
    "assert sum_length >= 1000\n",
    "# shouldn't be too long\n",
    "assert sum_length < 100000"
   ]
  },
  {
   "cell_type": "markdown",
   "metadata": {
    "deletable": false,
    "editable": false,
    "nbgrader": {
     "cell_type": "markdown",
     "checksum": "590518197131ed37b21e61b40309fd6a",
     "grade": false,
     "grade_id": "cell-a132e8fee5967805",
     "locked": true,
     "schema_version": 3,
     "solution": false,
     "task": false
    }
   },
   "source": [
    "## 3.3 (3p) Compute the word frequencies of your Wikipedia corpus. Return the $k$ most frequent words with their frequencies as a list of tuples. $k$ should default to 10. The list should be ordered by frequency starting from the most frequent.\n",
    "\n",
    "You can use str.split() for word tokenization."
   ]
  },
  {
   "cell_type": "code",
   "execution_count": null,
   "metadata": {
    "deletable": false,
    "nbgrader": {
     "cell_type": "code",
     "checksum": "54fdc3c7b8b56fc1f4878e468ed37050",
     "grade": false,
     "grade_id": "cell-8c167ceb2a4c65f1",
     "locked": false,
     "schema_version": 3,
     "solution": true,
     "task": false
    }
   },
   "outputs": [],
   "source": [
    "# YOUR CODE HERE\n",
    "raise NotImplementedError()"
   ]
  },
  {
   "cell_type": "code",
   "execution_count": null,
   "metadata": {
    "deletable": false,
    "editable": false,
    "nbgrader": {
     "cell_type": "code",
     "checksum": "2428800ef5d9c86e3508622b3e067c00",
     "grade": true,
     "grade_id": "cell-d17a9e499c13bd35",
     "locked": true,
     "points": 3,
     "schema_version": 3,
     "solution": false,
     "task": false
    }
   },
   "outputs": [],
   "source": [
    "top_words_and_freqs = get_corpus_word_frequencies(corpus)\n",
    "assert isinstance(top_words_and_freqs, list)\n",
    "assert len(top_words_and_freqs) == 10\n",
    "assert isinstance(top_words_and_freqs[0], tuple)\n",
    "\n",
    "# Frequency of the most frequent word\n",
    "fr = top_words_and_freqs[0][1]\n",
    "\n",
    "for word, freq in top_words_and_freqs:\n",
    "    assert isinstance(word, str)\n",
    "    assert isinstance(freq, int)\n",
    "    # Check decreasing order\n",
    "    assert freq <= fr\n",
    "    fr = freq\n",
    "\n",
    "top_words_and_freqs5 = get_corpus_word_frequencies(corpus, k=5)\n",
    "assert len(top_words_and_freqs5) == 5"
   ]
  },
  {
   "cell_type": "markdown",
   "metadata": {
    "deletable": false,
    "editable": false,
    "nbgrader": {
     "cell_type": "markdown",
     "checksum": "5ce6aaedaa2eacbc1d78a1f49e303b12",
     "grade": false,
     "grade_id": "cell-2734f82ba43bf34d",
     "locked": true,
     "schema_version": 3,
     "solution": false,
     "task": false
    }
   },
   "source": [
    "## 3.4.2 Print the ten most frequent words and their frequency in the following format:\n",
    "\n",
    "```\n",
    "a<TAB>12\n",
    "an<TAB>11\n",
    "```"
   ]
  },
  {
   "cell_type": "code",
   "execution_count": null,
   "metadata": {
    "deletable": false,
    "nbgrader": {
     "cell_type": "code",
     "checksum": "3a514dbba3ed6e12a39fcfcbe51f0c7a",
     "grade": false,
     "grade_id": "cell-bc2d984be320ff7c",
     "locked": false,
     "schema_version": 3,
     "solution": true,
     "task": false
    }
   },
   "outputs": [],
   "source": [
    "# YOUR CODE HERE\n",
    "raise NotImplementedError()"
   ]
  },
  {
   "cell_type": "markdown",
   "metadata": {},
   "source": [
    "# Linear algebra"
   ]
  },
  {
   "cell_type": "markdown",
   "metadata": {
    "deletable": false,
    "editable": false,
    "nbgrader": {
     "cell_type": "markdown",
     "checksum": "8ecd0d97c2fae3693da35696561b2da4",
     "grade": false,
     "grade_id": "cell-3ff21ab0f0a271e3",
     "locked": true,
     "schema_version": 3,
     "solution": false,
     "task": false
    }
   },
   "source": [
    "## 4.1 (2p) Define a function that takes a list of lists and decided if it is a matrix. A list of lists is a matrix if each nested list is the same length."
   ]
  },
  {
   "cell_type": "code",
   "execution_count": 30,
   "metadata": {
    "deletable": false,
    "nbgrader": {
     "cell_type": "code",
     "checksum": "1e8206f402442b88e543379b500409d5",
     "grade": false,
     "grade_id": "cell-90b341f4b426d33d",
     "locked": false,
     "schema_version": 3,
     "solution": true,
     "task": false
    }
   },
   "outputs": [
    {
     "name": "stdout",
     "output_type": "stream",
     "text": [
      "True\n"
     ]
    }
   ],
   "source": [
    "def is_matrix(matrix):\n",
    "    for i in range(len(matrix)):\n",
    "        if len(matrix[i]) != len(matrix[0]):\n",
    "            return False\n",
    "    return True\n",
    "\n",
    "print(is_matrix([[1, 2, 8], [2, 1, 9], [3, 4, 8]]))"
   ]
  },
  {
   "cell_type": "code",
   "execution_count": 4,
   "metadata": {
    "deletable": false,
    "editable": false,
    "nbgrader": {
     "cell_type": "code",
     "checksum": "a9b81810999e0b3b9b703bfe5beb90db",
     "grade": true,
     "grade_id": "cell-218d090c410748b5",
     "locked": true,
     "points": 2,
     "schema_version": 3,
     "solution": false,
     "task": false
    }
   },
   "outputs": [],
   "source": [
    "assert is_matrix([]) is True\n",
    "assert is_matrix([[], []]) is True\n",
    "assert is_matrix([[1, 2], [2, 1]]) is True\n",
    "assert is_matrix([[1], [2, 1]]) is False\n",
    "assert is_matrix([[1, 2], [2, 1], [3, 4]]) is True\n",
    "assert is_matrix([[1, 2], [2, 1], [3, 4, 5]]) is False"
   ]
  },
  {
   "cell_type": "code",
   "execution_count": 32,
   "metadata": {},
   "outputs": [
    {
     "name": "stdout",
     "output_type": "stream",
     "text": [
      "[[2, 4, 6], [8, 10, 12], [14, 16, 18]]\n"
     ]
    }
   ],
   "source": [
    "#Define a function that takes a list of lists and returns a list of lists where each nested list\n",
    "#is the sum of the corresponding nested lists in the two input lists.\n",
    "\n",
    "\n",
    "def matrix_add(matrix1, matrix2):\n",
    "    if is_matrix(matrix1) and is_matrix(matrix2):\n",
    "        if len(matrix1) == len(matrix2) and len(matrix1[0]) == len(matrix2[0]):\n",
    "            result = []\n",
    "            for i in range(len(matrix1)):\n",
    "                result.append([])\n",
    "                for j in range(len(matrix1[0])):\n",
    "                    result[i].append(matrix1[i][j] + matrix2[i][j])\n",
    "            return result\n",
    "        else:\n",
    "            return \"The matrices are not the same size.\"\n",
    "    else:\n",
    "        return \"One or both of the inputs are not matrices.\"\n",
    "\n",
    "print(matrix_add([[1,2,3], [4,5,6], [7,8,9]], [[1,2,3], [4,5,6], [7,8,9]]))"
   ]
  },
  {
   "cell_type": "markdown",
   "metadata": {
    "deletable": false,
    "editable": false,
    "nbgrader": {
     "cell_type": "markdown",
     "checksum": "b1208c1a5d0055907cfa32d02091d101",
     "grade": false,
     "grade_id": "cell-2ff6396d150fb578",
     "locked": true,
     "schema_version": 3,
     "solution": false,
     "task": false
    }
   },
   "source": [
    "## 4.2 (2p) Define a function that takes a matrix as an input represented as a list of lists. Return its transpose without changing the original matrix.\n",
    "\n",
    "Raise a `ValueError` if the input is not a valid matrix. Don't forget to reuse your code."
   ]
  },
  {
   "cell_type": "code",
   "execution_count": 22,
   "metadata": {
    "deletable": false,
    "nbgrader": {
     "cell_type": "code",
     "checksum": "6d72fe6b282df6792f21ba7bb1609def",
     "grade": false,
     "grade_id": "cell-adee24575dcbac8e",
     "locked": false,
     "schema_version": 3,
     "solution": true,
     "task": false
    }
   },
   "outputs": [
    {
     "name": "stdout",
     "output_type": "stream",
     "text": [
      "[[1, 4], [2, 5], [3, 6]]\n"
     ]
    }
   ],
   "source": [
    "\n",
    "def transpose(matrix):\n",
    "    return [list(row) for row in zip(*matrix)]\n",
    "\n",
    "print(transpose([[1,2,3], [4,5,6]]))"
   ]
  },
  {
   "cell_type": "code",
   "execution_count": 33,
   "metadata": {},
   "outputs": [
    {
     "name": "stdout",
     "output_type": "stream",
     "text": [
      "[[1, 4]]\n"
     ]
    }
   ],
   "source": [
    "\"\"\"\"\n",
    "def transposes(matrix):\n",
    "    for row in zip(*matrix):\n",
    "        return [list(row)]\n",
    "\n",
    "print(transposes([[1,2,3], [4,5,6]]))\n",
    "\"\"\""
   ]
  },
  {
   "cell_type": "code",
   "execution_count": 36,
   "metadata": {},
   "outputs": [
    {
     "name": "stdout",
     "output_type": "stream",
     "text": [
      "[[1, 4], [2, 5], [3, 6]]\n"
     ]
    }
   ],
   "source": [
    "def transpose(matrix):\n",
    "    if not is_matrix(matrix):\n",
    "        raise ValueError(\"Invalid matrix\")\n",
    "    return [list(row) for row in zip(*matrix)]\n",
    "print(transpose([[1,2,3], [4,5,6]]))"
   ]
  },
  {
   "cell_type": "code",
   "execution_count": 37,
   "metadata": {
    "deletable": false,
    "editable": false,
    "nbgrader": {
     "cell_type": "code",
     "checksum": "d981175f24d7b7a291441a7845795dc8",
     "grade": true,
     "grade_id": "cell-9b412cb3d0c0506a",
     "locked": true,
     "points": 2,
     "schema_version": 3,
     "solution": false,
     "task": false
    }
   },
   "outputs": [],
   "source": [
    "m1 = [[1, 2, 3], [4, 5, 6]]\n",
    "m2 = [[1, 4], [2, 5], [3, 6]]\n",
    "\n",
    "assert transpose([[1]]) == [[1]]\n",
    "assert transpose(m1) == m2\n",
    "# m1 is unchanged\n",
    "assert m1 == [[1, 2, 3], [4, 5, 6]]\n",
    "\n",
    "# transpose is an involution (self-inverse)\n",
    "assert transpose(transpose(m1)) == m1"
   ]
  },
  {
   "cell_type": "markdown",
   "metadata": {
    "deletable": false,
    "editable": false,
    "nbgrader": {
     "cell_type": "markdown",
     "checksum": "109bce0837c5a6da2a1c2f2fdc51540f",
     "grade": false,
     "grade_id": "cell-6447dbadcb503d60",
     "locked": true,
     "schema_version": 3,
     "solution": false,
     "task": false
    }
   },
   "source": [
    "## 4.3 (1p) Define a function that takes a matrix as its input and returns the row-wise maximum elements as a list.\n",
    "\n",
    "Raise a `ValueError` if the input is not a valid matrix. Don't forget to reuse your code."
   ]
  },
  {
   "cell_type": "code",
   "execution_count": 40,
   "metadata": {
    "deletable": false,
    "nbgrader": {
     "cell_type": "code",
     "checksum": "2652c8da70bda918810c923555ce3aab",
     "grade": false,
     "grade_id": "cell-21f91aada57c0332",
     "locked": false,
     "schema_version": 3,
     "solution": true,
     "task": false
    }
   },
   "outputs": [
    {
     "name": "stdout",
     "output_type": "stream",
     "text": [
      "[3, 4, 5]\n"
     ]
    }
   ],
   "source": [
    "def rowwise_max(matrix):\n",
    "    if not is_matrix(matrix):\n",
    "        raise ValueError(\"Invalid matrix\")\n",
    "    return [max(row) for row in (matrix)]\n",
    "\n",
    "print(rowwise_max(\n",
    "    [\n",
    "        [1, 2, 3],\n",
    "        [1, 4, 3],\n",
    "        [1, 5, 3],\n",
    "    ]\n",
    "))"
   ]
  },
  {
   "cell_type": "code",
   "execution_count": 41,
   "metadata": {
    "deletable": false,
    "editable": false,
    "nbgrader": {
     "cell_type": "code",
     "checksum": "493a7791aec07cff034cc3031467f10e",
     "grade": true,
     "grade_id": "cell-eb440f91ea977032",
     "locked": true,
     "points": 1,
     "schema_version": 3,
     "solution": false,
     "task": false
    }
   },
   "outputs": [],
   "source": [
    "assert rowwise_max(\n",
    "    [\n",
    "        [1, 2, 3],\n",
    "        [1, 4, 3],\n",
    "        [1, 5, 3],\n",
    "    ]\n",
    ") == [3, 4, 5]\n",
    "\n",
    "assert rowwise_max([list(range(1000))]) == [999]\n",
    "assert rowwise_max(transpose([list(range(1000))])) == list(range(1000))"
   ]
  },
  {
   "cell_type": "markdown",
   "metadata": {
    "deletable": false,
    "editable": false,
    "nbgrader": {
     "cell_type": "markdown",
     "checksum": "2f4ee5b9e67cc2fe625efe25d640a7d9",
     "grade": false,
     "grade_id": "cell-d497ed3bf67b2435",
     "locked": true,
     "schema_version": 3,
     "solution": false,
     "task": false
    }
   },
   "source": [
    "## 4.4 (2p) Define a function that takes a matrix as its input and returns the column-wise maximum elements as a list.\n",
    "\n",
    "Try to reuse your previous functions."
   ]
  },
  {
   "cell_type": "code",
   "execution_count": 42,
   "metadata": {
    "deletable": false,
    "nbgrader": {
     "cell_type": "code",
     "checksum": "b9ea1d5db6192330853b033b5b00ab43",
     "grade": false,
     "grade_id": "cell-bde0cb9cf8d75c89",
     "locked": false,
     "schema_version": 3,
     "solution": true,
     "task": false
    }
   },
   "outputs": [],
   "source": [
    "def columnwise_max(matrix):\n",
    "    return [max(column) for column in transpose(matrix)]"
   ]
  },
  {
   "cell_type": "code",
   "execution_count": 43,
   "metadata": {},
   "outputs": [
    {
     "name": "stdout",
     "output_type": "stream",
     "text": [
      "[1, 5, 3]\n"
     ]
    }
   ],
   "source": [
    "print(columnwise_max(\n",
    "    [\n",
    "        [1, 2, 3],\n",
    "        [1, 4, 3],\n",
    "        [1, 5, 3],\n",
    "    ]\n",
    "))"
   ]
  },
  {
   "cell_type": "code",
   "execution_count": 44,
   "metadata": {
    "deletable": false,
    "editable": false,
    "nbgrader": {
     "cell_type": "code",
     "checksum": "91e72b16b0232ce1ff967c81f7bbd86a",
     "grade": true,
     "grade_id": "cell-142e6034ed15005b",
     "locked": true,
     "points": 2,
     "schema_version": 3,
     "solution": false,
     "task": false
    }
   },
   "outputs": [],
   "source": [
    "assert columnwise_max(\n",
    "    [\n",
    "        [1, 2, 3],\n",
    "        [1, 4, 3],\n",
    "        [1, 5, 3],\n",
    "    ]\n",
    ") == [1, 5, 3]\n",
    "\n",
    "assert columnwise_max([list(range(1000))]) == list(range(1000))\n",
    "assert columnwise_max(transpose([list(range(1000))])) == [999]"
   ]
  },
  {
   "cell_type": "markdown",
   "metadata": {
    "deletable": false,
    "editable": false,
    "nbgrader": {
     "cell_type": "markdown",
     "checksum": "745bf8c744aea75ba83a4b61e83d9042",
     "grade": false,
     "grade_id": "cell-6121a01202b8b3f4",
     "locked": true,
     "schema_version": 3,
     "solution": false,
     "task": false
    }
   },
   "source": [
    "## 4.5 (3p) Define a function that takes two vectors represented as lists and returns their L2 distance.\n",
    "\n",
    "Also called Euclidean distance."
   ]
  },
  {
   "cell_type": "code",
   "execution_count": null,
   "metadata": {
    "deletable": false,
    "nbgrader": {
     "cell_type": "code",
     "checksum": "7c89e75bbe528f9924c297e03cb3d898",
     "grade": false,
     "grade_id": "cell-849b6ea4c65f058e",
     "locked": false,
     "schema_version": 3,
     "solution": true,
     "task": false
    }
   },
   "outputs": [],
   "source": [
    "# YOUR CODE HERE\n",
    "raise NotImplementedError()"
   ]
  },
  {
   "cell_type": "code",
   "execution_count": 53,
   "metadata": {},
   "outputs": [
    {
     "name": "stdout",
     "output_type": "stream",
     "text": [
      "1.4142135623730951\n"
     ]
    }
   ],
   "source": [
    "from math import dist\n",
    "\n",
    "def l2_distance(v1,v2):\n",
    "    return dist(v1,v2)\n",
    "\n",
    "print((l2_distance([1, 0], [0, 1])))"
   ]
  },
  {
   "cell_type": "code",
   "execution_count": 50,
   "metadata": {
    "deletable": false,
    "editable": false,
    "nbgrader": {
     "cell_type": "code",
     "checksum": "2da045094b58ca5420f36e4de76a042c",
     "grade": true,
     "grade_id": "cell-4c9f06a8534cbefc",
     "locked": true,
     "points": 3,
     "schema_version": 3,
     "solution": false,
     "task": false
    }
   },
   "outputs": [],
   "source": [
    "assert abs(l2_distance([1, 0], [1, 0]) - 0) < 1e-5\n",
    "assert abs(l2_distance([1, 0], [0, 1]) - 2**0.5) < 1e-5"
   ]
  },
  {
   "cell_type": "markdown",
   "metadata": {
    "deletable": false,
    "editable": false,
    "nbgrader": {
     "cell_type": "markdown",
     "checksum": "4f3d2fa22bf571d8c99b44d27de9730c",
     "grade": false,
     "grade_id": "cell-8d38b914ec98f2be",
     "locked": true,
     "schema_version": 3,
     "solution": false,
     "task": false
    }
   },
   "source": [
    "## 4.6 Create a function that takes a matrix of size NxM and returns the pairwise L2 distance of each row pair.\n",
    "\n",
    "For input $A^{N \\times M}$, the output should be $D^{N \\times N}$ where: $D_{i,j} = L_2 (A_i, A_j)$"
   ]
  },
  {
   "cell_type": "code",
   "execution_count": null,
   "metadata": {
    "deletable": false,
    "nbgrader": {
     "cell_type": "code",
     "checksum": "80bcb4c2f3f8cead8816494483b6ec74",
     "grade": false,
     "grade_id": "cell-644d3391fc995ee9",
     "locked": false,
     "schema_version": 3,
     "solution": true,
     "task": false
    }
   },
   "outputs": [],
   "source": [
    "# YOUR CODE HERE\n",
    "raise NotImplementedError()"
   ]
  },
  {
   "cell_type": "code",
   "execution_count": 48,
   "metadata": {},
   "outputs": [
    {
     "name": "stdout",
     "output_type": "stream",
     "text": [
      "5.196152422706632\n"
     ]
    }
   ],
   "source": [
    "from scipy.spatial import distance\n",
    "a = (1, 2, 3)\n",
    "b = (4, 5, 6)\n",
    "dst = distance.euclidean(a, b)\n",
    "\n",
    "print(dst)"
   ]
  },
  {
   "cell_type": "code",
   "execution_count": 56,
   "metadata": {
    "deletable": false,
    "editable": false,
    "nbgrader": {
     "cell_type": "code",
     "checksum": "b1ad00fa9849166dcb1604d4fa161036",
     "grade": true,
     "grade_id": "cell-8bc3cf03b303c7c3",
     "locked": true,
     "points": 0,
     "schema_version": 3,
     "solution": false,
     "task": false
    }
   },
   "outputs": [
    {
     "ename": "NameError",
     "evalue": "name 'pairwise_row_distance' is not defined",
     "output_type": "error",
     "traceback": [
      "\u001b[0;31m---------------------------------------------------------------------------\u001b[0m",
      "\u001b[0;31mNameError\u001b[0m                                 Traceback (most recent call last)",
      "Cell \u001b[0;32mIn[56], line 1\u001b[0m\n\u001b[0;32m----> 1\u001b[0m D \u001b[39m=\u001b[39m pairwise_row_distance([[\u001b[39m1\u001b[39m, \u001b[39m0\u001b[39m, \u001b[39m2\u001b[39m], [\u001b[39m0\u001b[39m, \u001b[39m2\u001b[39m, \u001b[39m1\u001b[39m]])\n\u001b[1;32m      2\u001b[0m \u001b[39m# should be a matrix\u001b[39;00m\n\u001b[1;32m      3\u001b[0m \u001b[39massert\u001b[39;00m is_matrix(D) \u001b[39mis\u001b[39;00m \u001b[39mTrue\u001b[39;00m\n",
      "\u001b[0;31mNameError\u001b[0m: name 'pairwise_row_distance' is not defined"
     ]
    }
   ],
   "source": [
    "D = pairwise_row_distance([[1, 0, 2], [0, 2, 1]])\n",
    "# should be a matrix\n",
    "assert is_matrix(D) is True\n",
    "assert len(D) == 2\n",
    "assert len(D[0]) == 2\n",
    "assert D[0][0] == 0\n",
    "assert abs(D[0][1] - 2.449489742783178) < 1e-3\n",
    "assert abs(D[1][0] - 2.449489742783178) < 1e-3\n",
    "assert D[1][1] == 0\n",
    "\n",
    "# should be symmetric\n",
    "assert transpose(D) == D"
   ]
  }
 ],
 "metadata": {
  "kernelspec": {
   "display_name": "Python 3 (ipykernel)",
   "language": "python",
   "name": "python3"
  },
  "language_info": {
   "codemirror_mode": {
    "name": "ipython",
    "version": 3
   },
   "file_extension": ".py",
   "mimetype": "text/x-python",
   "name": "python",
   "nbconvert_exporter": "python",
   "pygments_lexer": "ipython3",
   "version": "3.10.4"
  },
  "toc": {
   "base_numbering": 1,
   "nav_menu": {},
   "number_sections": false,
   "sideBar": true,
   "skip_h1_title": false,
   "title_cell": "Table of Contents",
   "title_sidebar": "Contents",
   "toc_cell": false,
   "toc_position": {
    "height": "calc(100% - 180px)",
    "left": "10px",
    "top": "150px",
    "width": "662px"
   },
   "toc_section_display": true,
   "toc_window_display": true
  }
 },
 "nbformat": 4,
 "nbformat_minor": 2
}
